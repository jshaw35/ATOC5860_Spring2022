{
 "cells": [
  {
   "cell_type": "markdown",
   "id": "e31b47d0",
   "metadata": {},
   "source": [
    "# ATOC 5860: Homework 1"
   ]
  },
  {
   "cell_type": "markdown",
   "id": "82104933",
   "metadata": {},
   "source": [
    "Written responses"
   ]
  },
  {
   "cell_type": "markdown",
   "id": "1e627e59",
   "metadata": {},
   "source": [
    "### Jonah Shaw, 2022/01/24"
   ]
  },
  {
   "cell_type": "markdown",
   "id": "838d472c",
   "metadata": {},
   "source": [
    "## 1. Basic Statistics"
   ]
  },
  {
   "cell_type": "markdown",
   "id": "9c37aeac",
   "metadata": {},
   "source": [
    "__a) Bayes Theorem.  Assume background rates of COVID are 90% negative, 10% positive AND COVID tests are accurate 80% of the time, but fail 20% of the time. Your friend goes and gets a COVID test.  Your friend test negative. What is the probability that your friend is actually negative? Explain to your friend how you are using Bayes theorem to inform your thinking.  Hint: Review Lecture #1 and the 1.2.2.2 of the Barnes Notes. (10 points)__"
   ]
  },
  {
   "cell_type": "markdown",
   "id": "b9d16584",
   "metadata": {},
   "source": [
    "Bayes Theorem states:\n",
    "\n",
    "$$ P(A | B) = \\frac{P(B | A)P(A)}{P(B)}, $$\n",
    "\n",
    "where the probability of $B$ occurring $P(B)$ can be written as a sum over all possibilities of $A$:  \n",
    "\n",
    "$$ P(B) = \\sum_i P(B | A_i) $$"
   ]
  },
  {
   "cell_type": "markdown",
   "id": "d824e404",
   "metadata": {},
   "source": [
    "Let $C$ indicate that you are actually infected with COVID-19 ($\\tilde{C}$ indicates you do not have COVID).\n",
    "Similarly, let $p$ indicate that you test positive for COVID-19 ($\\tilde{p}$ indicates you test negative). From the prompt, we know that:\n",
    "- $P(C) = 0.10$ (background positive COVID rate)\n",
    "- $P(\\tilde{C}) = 0.90$\n",
    "- $P(p|C) = 0.80$ (true positive)\n",
    "- $P(\\tilde{p}|C) = 0.20$ (false negative)\n",
    "- $P(\\tilde{p}|\\tilde{C}) = 0.80$ (true negative)\n",
    "- $P(p|\\tilde{C}) = 0.20$ (false positive)\n"
   ]
  },
  {
   "cell_type": "markdown",
   "id": "a39d519b",
   "metadata": {},
   "source": [
    "Applying Bayes' Theorem, we can write the probability of being negative given a negative test and knowing the background rate of infect $P(\\tilde{C},\\tilde{p})$ as  \n",
    "\n",
    "$$ P(\\tilde{C},\\tilde{p}) = \\frac{P(\\tilde{p}|\\tilde{C})P(\\tilde{C})}{P(\\tilde{p}|C) P(C) + P(\\tilde{p}|\\tilde{C})P(\\tilde{C})} = \\frac{(0.80)(0.90)}{(0.20)(0.10) + (0.80)(0.90)} \\approx 97\\% $$"
   ]
  },
  {
   "cell_type": "markdown",
   "id": "7514a697",
   "metadata": {},
   "source": [
    "My Explanation:  \n",
    "The test error rates depend on whether you are actually positive or negative. Since we know the background rate of COVID, we use this prior to get a better estimate of the testing errors."
   ]
  },
  {
   "cell_type": "markdown",
   "id": "24df2ada",
   "metadata": {},
   "source": [
    "__b)\tExplain how to test whether a sample mean is significantly different than zero at the 95% confidence level and the 99% confidence level. State each of the 5 steps in hypothesis testing that you are using.  Contrast your approach for a sample with 15 independent observations (N=15) and a sample 1000 independent observations (N=1000). (15 points)__"
   ]
  },
  {
   "cell_type": "markdown",
   "id": "e31163ab",
   "metadata": {},
   "source": [
    "I would use hypothesis testing to test if a sample mean is statistically different from zero. This requires knowing the standard deviation of the sample, the sample mean, and the size of the sample."
   ]
  },
  {
   "cell_type": "markdown",
   "id": "81bc0069",
   "metadata": {},
   "source": [
    "The 5 steps in hypothesis testing are:\n",
    "\n",
    "1. State the significance level ($\\alpha$) (in this case $\\alpha = 0.05,0.01$).  \n",
    "\n",
    "2. State the null hypothesis. ($\\mu = 0$, i.e. the sample mean is zero).\n",
    "\n",
    "3. State the statistic used and its assumptions ($N=15 \\rightarrow$ t-stat, $N=10^3 \\rightarrow$ z-stat).\n",
    "\n",
    "4. State the critical region. We have no prior, so we used a two-tailed test.\n",
    "\n",
    "5. Evaluate the statistic and state the solution."
   ]
  },
  {
   "cell_type": "markdown",
   "id": "64a4b291",
   "metadata": {},
   "source": [
    "With 15 observations, we would use the t-statistic (Barnes Eq. 96), which produces a wider distribution than the standard z-statistic (Barnes Eq. 83) for small samples. With 1000 observations, we can confidently use the z-statistic."
   ]
  },
  {
   "cell_type": "markdown",
   "id": "5343a457-d1dc-489c-8ffe-3079d66c18f3",
   "metadata": {},
   "source": [
    "Critical z-stat for 95% confidence is 1.96"
   ]
  },
  {
   "cell_type": "markdown",
   "id": "5b1aea8f-334e-4af9-ae32-1d3986ba76ae",
   "metadata": {},
   "source": [
    "Critical z-stat for 99% confidence is 2.58"
   ]
  },
  {
   "cell_type": "markdown",
   "id": "59a45533-280e-4025-87d7-7c8b33f7474b",
   "metadata": {},
   "source": [
    "Critical t-stat for 95% confidence with 15 samples is 2.14"
   ]
  },
  {
   "cell_type": "markdown",
   "id": "8f331265-7eaa-40d6-8359-4de42f63bc8c",
   "metadata": {},
   "source": [
    "Critical t-stat for 99% confidence with 15 samples is 2.98"
   ]
  },
  {
   "cell_type": "markdown",
   "id": "406557c0",
   "metadata": {},
   "source": [
    "__c)\tDesign your own homework problem to compare two sample means using data of your own choice.  In other words, test whether two sample means are statistically different. Follow all five steps of hypothesis testing.  Hint: See page 26 of Barnes notes for an example. (15 points)__"
   ]
  },
  {
   "cell_type": "markdown",
   "id": "5a684503",
   "metadata": {},
   "source": [
    "You are a farmer raising a small flock of chickens. Every year, you get new chickens and weigh them before the end of the season. The chickens this year seem abnormally large and you are interested in knowing if there is a statistically significant (at 95% confidence) increase over the previous year.\n",
    "\n",
    "This year: 22 chickens with an average weight of 4.2lbs and a standard deviation of 1.2lbs.\n",
    "Last year: 27 chicken with an average weight of 3.1lbs and a standard deviation of 1.0lbs."
   ]
  },
  {
   "cell_type": "markdown",
   "id": "f3da5829",
   "metadata": {},
   "source": [
    "1. $\\alpha = 0.05$\n",
    "2. Null Hypothesis $H_0: \\mu_1 = \\mu_2$, $H_1: \\mu_1 > \\mu_2$\n",
    "3. $N < 30$, so we use the t-statistic.\n",
    "4. Critical region $t_c = t_{0.05} = 1.68$  \n",
    "5. Evaluate the statistic (below)."
   ]
  },
  {
   "cell_type": "markdown",
   "id": "12981108",
   "metadata": {},
   "source": [
    "Because the sample sizes are small ($<30$), we use the t-statistic for comparing two samples (Barnes Eq. 106)  \n",
    "\n",
    "$$ t = \\frac{(\\overline{x_1} - \\overline{x_2}) - \\Delta_{1,2}}{\\hat{\\sigma}\\sqrt{\\frac{1}{N_1}+\\frac{1}{N_2}}}, $$\n",
    "\n",
    "where the pooled variance $\\hat{\\sigma}$ is given by (Barnes Eq. 107):\n",
    "\n",
    "$$ \\hat{\\sigma} = \\sqrt{\\frac{N_1 s_1^2 + N_2 s_2^2}{N_1 + N_2 -2}} $$"
   ]
  },
  {
   "cell_type": "markdown",
   "id": "0c8aab3c-5d02-488d-bcc0-9eaf6b61b68d",
   "metadata": {},
   "source": [
    "Pooled variance:  1.12  \n",
    "Calculated t-statistic:  3.43"
   ]
  },
  {
   "cell_type": "markdown",
   "id": "b581ce86",
   "metadata": {},
   "source": [
    "Our calculated t-statistic is greater than the critical value, so we can discard the null hypothesis."
   ]
  },
  {
   "cell_type": "markdown",
   "id": "fc19b9f1",
   "metadata": {},
   "source": [
    "__d)\tDesign your own homework problem to place 95% confidence intervals on the mean value of a data variable of your choice. Use the non-standardized variable.  Hint: See Barnes notes on Confidence Intervals. (10 points)__"
   ]
  },
  {
   "cell_type": "markdown",
   "id": "4e893254",
   "metadata": {},
   "source": [
    "The same farmer from the previous question now wishes to generate a 95% confidence interval on the weight of this year's chickens. Use the same information (22 chickens with an average weight of 4.2lbs and a standard deviation of 1.2lbs) to generate the confidence interval."
   ]
  },
  {
   "cell_type": "markdown",
   "id": "7fb5802e",
   "metadata": {},
   "source": [
    "Again, we use the t-statistic because the sample size is small. But now our interval is two-tailed, so we calculate the critical t-value slightly differently."
   ]
  },
  {
   "cell_type": "markdown",
   "id": "9c7f0051",
   "metadata": {},
   "source": [
    "Barnes Eq. 90 shows the calculation of a confidence interval using a z-statistic:\n",
    "\n",
    "$$ \\mu = \\overline{x} \\pm z_{\\alpha/2} \\frac{\\sigma}{\\sqrt{N}}. $$"
   ]
  },
  {
   "cell_type": "markdown",
   "id": "02612a54",
   "metadata": {},
   "source": [
    "We can convert this to use with a t-statistic:  \n",
    "\n",
    "$$ \\mu = \\overline{x} \\pm t_{\\alpha/2} \\frac{s}{\\sqrt{N - 1}}. $$"
   ]
  },
  {
   "cell_type": "markdown",
   "id": "28b3991c-5ccc-472e-bcca-a7927a929eee",
   "metadata": {},
   "source": [
    "Lower bound:  3.67  \n",
    "Upper bound:  4.73"
   ]
  },
  {
   "cell_type": "markdown",
   "id": "4d4b2820",
   "metadata": {},
   "source": [
    "4.73lbs is a big chicken!!"
   ]
  },
  {
   "cell_type": "markdown",
   "id": "f14fcb5d",
   "metadata": {},
   "source": [
    "__e)\tThe F-statistic is used to compare two sample standard deviations. Design your own homework problem to compare two sample standard deviations and assess if they are different at the 95% confidence interval. Hint: See page 38 of the Barnes notes. (10 points)__"
   ]
  },
  {
   "cell_type": "markdown",
   "id": "c48bf51b",
   "metadata": {},
   "source": [
    "We now return to the farm for a third and final encounter with our statistically-inclined fowl farmer. Our friend asks us, are the standard deviations of this year and last year different at a 99% confidence level?"
   ]
  },
  {
   "cell_type": "markdown",
   "id": "eab5a30d",
   "metadata": {},
   "source": [
    "Like the previous questions, we now need to perform confidence testing to compare these two distributions of chicken weights."
   ]
  },
  {
   "cell_type": "markdown",
   "id": "09c876d1",
   "metadata": {},
   "source": [
    "1. $\\alpha = 0.01$\n",
    "2. Null Hypothesis $H_0: s_1 = s_2$, $H_1: s_1 \\neq s_2$\n",
    "3. We are comparing standard deviations without a priori knowledge, so we use the f-statistic with a two-tailed test.\n",
    "4. Critical region $f_c = f_{0.005} = 1.68$  \n",
    "5. Evaluate the statistic (below)."
   ]
  },
  {
   "cell_type": "markdown",
   "id": "30e275ff",
   "metadata": {},
   "source": [
    "The $F$-statistic is given as (Barnes Eq. 121)  \n",
    "\n",
    "$$ F = \\frac{s_1^2 / \\sigma_1^2}{s_2^2 / \\sigma_2^2}, $$\n",
    "\n",
    "where $s$ is the sample variance and $\\sigma$ is the population variance. We will assume that our chicken samples are drawn from populations with equal variances ($\\sigma_1 = \\sigma_2$) so that the $F$-statistic simplifies to (Barnes Eq. 121) \n",
    "\n",
    "$$ F = \\frac{s_1^2}{s_2^2}. $$"
   ]
  },
  {
   "cell_type": "markdown",
   "id": "6cf94b82-c65d-4cee-bb05-462b7fe0366d",
   "metadata": {},
   "source": [
    "Critical f-value:  2.64  \n",
    "Calculated f-value:  1.2"
   ]
  },
  {
   "cell_type": "markdown",
   "id": "c9d1beff",
   "metadata": {},
   "source": [
    "The calculated f-value is less than the critical value, so we cannot discard the null hypothesis. The standard deviations of the different years may very well be the same."
   ]
  },
  {
   "cell_type": "markdown",
   "id": "d5f58c1e",
   "metadata": {},
   "source": [
    "## 2. Compare composite-averages using t/z tests and bootstrapping."
   ]
  },
  {
   "cell_type": "markdown",
   "id": "dee39b03",
   "metadata": {},
   "source": [
    "Note: coding is required for this problem. Please use python Jupyter notebooks.  It will be helpful follow the ipython notebook examples introduced in Application Lab #1 and in lectures. (40 points)"
   ]
  },
  {
   "cell_type": "markdown",
   "id": "a023fbd5",
   "metadata": {},
   "source": [
    "Your friend living in Fort Collins tells you that the air pressure is anomalous when there is measurable precipitation (greater than or equal to 0.01 inches). To test your friends’ hypothesis, use hourly observations from Fort Collins in 2014.  The data include both the precipitation amount in units of inches and pressure in units of hPa.  The data file is called homework1_data.csv."
   ]
  },
  {
   "cell_type": "markdown",
   "id": "2daaf99b",
   "metadata": {},
   "source": [
    "__a)\tWhat was the average pressure in 2014 ($\\overline{P}$)?  What was the average pressure when it rained ($\\overline{P}_{R \\geq 0.01}$)?  (10 points)__"
   ]
  },
  {
   "cell_type": "markdown",
   "id": "cf50b10f-b014-4c59-9d3b-f30753431231",
   "metadata": {},
   "source": [
    "Average Pressure in Ft. Collins in 2014: 846.33 hPa"
   ]
  },
  {
   "cell_type": "markdown",
   "id": "e3473ca3-3c0c-4a66-9a9b-faa945e38ec9",
   "metadata": {},
   "source": [
    "Average Pressure in Ft. Collins in 2014 on days when rain was recorded: 847.03 hPa"
   ]
  },
  {
   "cell_type": "markdown",
   "id": "bff9bc49",
   "metadata": {},
   "source": [
    "__b) Test your friends’ hypothesis by generating confidence intervals using both a t-statistic and a z-statistic. Is the average pressure different when it is raining?  What is more appropriate to use as a statistical test – a t- or a z-statistic? Use 95% confidence interval. (15 points)__"
   ]
  },
  {
   "cell_type": "markdown",
   "id": "c1085a43",
   "metadata": {},
   "source": [
    "There are 384 measurements of pressure during rain and 8760 measurements, so we can confidently use the z-statistic. That said, using the t-statistic is fine because it becomes the z-statistic for large N. Values should be very similar."
   ]
  },
  {
   "cell_type": "markdown",
   "id": "7ab580d7",
   "metadata": {},
   "source": [
    "__Perform hypothesis testing.__\n",
    "\n",
    "1. $\\alpha = 0.05$\n",
    "2. Null Hypothesis $H_0: \\mu_1 = \\mu_2$, $H_1: \\mu_1 \\neq \\mu_2$\n",
    "3. We are comparing sample means without a priori knowledge, so we use a two-tailed test. We are directed to use both a z- and t-statistic.\n",
    "4. Critical region $f_{crit} = f_{0.025} = 1.96, t_{crit} = t_{0.025} = 1.97$ (very similar critical values)  "
   ]
  },
  {
   "cell_type": "markdown",
   "id": "683d1247",
   "metadata": {},
   "source": [
    "5. Evaluate the statistic (below)."
   ]
  },
  {
   "cell_type": "markdown",
   "id": "7de1bcbc",
   "metadata": {},
   "source": [
    "#### First, I'll treat the data as a population (use simple z- and t-stats):"
   ]
  },
  {
   "cell_type": "markdown",
   "id": "934140a6",
   "metadata": {},
   "source": [
    "The z-statistic is (Barnes Eq. 93):  \n",
    "\n",
    "$$ z = \\frac{\\overline{X} - \\mu}{\\sigma / \\sqrt{N}} $$"
   ]
  },
  {
   "cell_type": "markdown",
   "id": "c440e137-baf2-4eb2-9d02-55800b68f949",
   "metadata": {},
   "source": [
    "z-stat: 2.54"
   ]
  },
  {
   "cell_type": "markdown",
   "id": "ffb46058",
   "metadata": {},
   "source": [
    "The t-statistic is (Barnes Eq. 96):  \n",
    "\n",
    "$$ t = \\frac{\\overline{x} - \\mu}{s / \\sqrt{N - 1}} $$"
   ]
  },
  {
   "cell_type": "markdown",
   "id": "75a16625-d320-4dde-b5fb-3486c6a60f43",
   "metadata": {},
   "source": [
    "t-stat: 2.54"
   ]
  },
  {
   "cell_type": "markdown",
   "id": "b94016e4",
   "metadata": {},
   "source": [
    "#### Now, I can see if these critical values change when I treat the full data as its own sample."
   ]
  },
  {
   "cell_type": "markdown",
   "id": "467caaba",
   "metadata": {},
   "source": [
    "$$ z = \\frac{(\\overline{x_1} - \\overline{x_2}) - \\Delta_{1,2}}{\\sqrt{\\frac{\\sigma_1^2}{N_1}+\\frac{\\sigma_2^2}{N_2}}}, $$\n"
   ]
  },
  {
   "cell_type": "markdown",
   "id": "0a9ce039-3cba-489d-a3bf-ea50b32e665f",
   "metadata": {},
   "source": [
    "z-stat: 2.49"
   ]
  },
  {
   "cell_type": "markdown",
   "id": "ec1c8d0f",
   "metadata": {},
   "source": [
    "Because the sample sizes are small ($<30$), we use the t-statistic for comparing two samples (Barnes Eq. 106)  \n",
    "\n",
    "$$ t = \\frac{(\\overline{x_1} - \\overline{x_2}) - \\Delta_{1,2}}{\\hat{\\sigma}\\sqrt{\\frac{1}{N_1}+\\frac{1}{N_2}}}, $$\n",
    "\n",
    "where the pooled variance $\\hat{\\sigma}$ is given by (Barnes Eq. 107):\n",
    "\n",
    "$$ \\hat{\\sigma} = \\sqrt{\\frac{N_1 s_1^2 + N_2 s_2^2}{N_1 + N_2 -2}} $$"
   ]
  },
  {
   "cell_type": "markdown",
   "id": "d15b34d1-b059-4646-bcab-365fc53529c2",
   "metadata": {},
   "source": [
    "Calculated t-statistic: 2.39"
   ]
  },
  {
   "cell_type": "markdown",
   "id": "de0865a7",
   "metadata": {},
   "source": [
    "In this case, using the t-statistic produces a more different value than I would have expected."
   ]
  },
  {
   "cell_type": "markdown",
   "id": "abbf5572",
   "metadata": {},
   "source": [
    "### Evaluate the statistics"
   ]
  },
  {
   "cell_type": "markdown",
   "id": "3a819500",
   "metadata": {},
   "source": [
    "z-crit: 1.96  \n",
    "t-crit: 1.97\n",
    "\n",
    "z-stat (assuming that all data represent the population): 2.54  \n",
    "t-stat (assuming that all data represent the population): 2.54\n",
    "\n",
    "z-stat (letting the population be its own sample): 2.49  \n",
    "t-stat (letting the population be its own sample): 2.39"
   ]
  },
  {
   "cell_type": "markdown",
   "id": "85d514ce",
   "metadata": {},
   "source": [
    "__Regardless of the statistics used, the critical value is always exceeded. We can discard the null hypothesis that pressure is unchanged when it rains.__"
   ]
  },
  {
   "cell_type": "markdown",
   "id": "7c082848",
   "metadata": {},
   "source": [
    "__c)\tInstead of the t/z-test – use bootstrap sampling to determine whether the local pressure is anomalously high during times when it is raining. How does your answer compare with your results using the t/z-test? (15 points)__"
   ]
  },
  {
   "cell_type": "markdown",
   "id": "e96e403c",
   "metadata": {},
   "source": [
    "Instructions for Bootstrapping: Say there are $N$ hourly periods when $R \\geq 0.01$ inches. Instead of averaging the pressure $P$ in those $N$ hours, randomly grab $N$ pressure values and take their average.  Then do this again, and again, and again 1000 times.  In the end you will end up with a distribution of mean $N$ pressures ($P_N$) in the case of random sampling, i.e., the distribution you would expect if there was no physical relationship between $P$ and $N$. Plot a histogram of this distribution and provide basic statistics describing this distribution( (mean, standard deviation, minimum, and maximum).  Then quantify the likelihood of getting your value $\\overline{P}_{R > 0.01}$ of by chance alone using percentiles of the boot-strap generated distribution of P_N.\n",
    "\n",
    "Aside: The name bootstrapping comes from the saying “pulling yourself up by your boot straps”, the idea of getting something for nothing. For this method you do not need to know the true distribution underlying your data. You just re-use the data you have to try to calculate the statistics you need."
   ]
  },
  {
   "cell_type": "markdown",
   "id": "d1140d17",
   "metadata": {},
   "source": [
    "__Perform bootstrapping:__"
   ]
  },
  {
   "cell_type": "markdown",
   "id": "5e87e223-77b6-455b-84ba-3573ea9d4b20",
   "metadata": {},
   "source": [
    "__provide basic statistics describing this distribution( (mean, standard deviation, minimum, and maximum:__"
   ]
  },
  {
   "cell_type": "markdown",
   "id": "c1c169cf-f75c-47de-8322-3915a358dafc",
   "metadata": {},
   "source": [
    "Bootstrapping distribution mean: 846.34   \n",
    "Bootstrapping distribution standard deviation: 0.28   \n",
    "Bootstrapping distribution minimum: 845.07   \n",
    "Bootstrapping distribution maximum: 847.24  "
   ]
  },
  {
   "cell_type": "markdown",
   "id": "4c5939fd-0869-4478-ae5e-6f38a273f8eb",
   "metadata": {},
   "source": [
    "__Plot a histogram of this distribution:__"
   ]
  },
  {
   "cell_type": "markdown",
   "id": "a895c79a-6d88-49b0-8c65-bd11261a6f7e",
   "metadata": {},
   "source": [
    "![image](ATOC5860_HW1_histoplot.png)"
   ]
  },
  {
   "cell_type": "markdown",
   "id": "c8faca70-c299-4c4b-83cb-1549f86c9c38",
   "metadata": {},
   "source": [
    "__Quantify the likelihood of getting your value $𝑃_{𝑅\\geq 0.01}$ of by chance alone using percentiles of the boot-strap generated distribution of P_N:__"
   ]
  },
  {
   "cell_type": "markdown",
   "id": "15deb8c4-c5ff-4a22-a540-b403e98f9c90",
   "metadata": {},
   "source": [
    "First I'll just create a 95% confidence interval:\n",
    "\n",
    "Lower confidence interval: 845.77 hPa  \n",
    "Upper confidence interval: 846.87 hPa  "
   ]
  },
  {
   "cell_type": "markdown",
   "id": "1df4d920-8645-4c03-b09e-e7a4c2b69830",
   "metadata": {},
   "source": [
    "Average surface pressure during rain: 847.03 hPa"
   ]
  },
  {
   "cell_type": "markdown",
   "id": "9e57d29a-6489-401a-a2ad-a7c1ddd0c1b8",
   "metadata": {},
   "source": [
    "Since the average pressure during rain falls outside the confidence interval from the bootstrapping distribution, this method agrees that the pressure is statistically different when it rains."
   ]
  },
  {
   "cell_type": "markdown",
   "id": "a7c7ec49-9571-4c20-8d97-694d300a2c9e",
   "metadata": {},
   "source": [
    "To actually answer the question, I need to sort the bootstrapped averages and figure out how many are greater than or equal to the observed surface pressure during rain."
   ]
  },
  {
   "cell_type": "markdown",
   "id": "84539e93-ad62-4941-80ba-4392919b6ddc",
   "metadata": {},
   "source": [
    "__Likelihood of obtaining the measure surface pressure by chance: 0.50 (percent)__\n",
    "\n",
    "^So it is very unlikely that this would have occurred naturally."
   ]
  },
  {
   "cell_type": "code",
   "execution_count": null,
   "id": "f3cdf039",
   "metadata": {},
   "outputs": [],
   "source": []
  }
 ],
 "metadata": {
  "kernelspec": {
   "display_name": "pangeo",
   "language": "python",
   "name": "pangeo"
  },
  "language_info": {
   "codemirror_mode": {
    "name": "ipython",
    "version": 3
   },
   "file_extension": ".py",
   "mimetype": "text/x-python",
   "name": "python",
   "nbconvert_exporter": "python",
   "pygments_lexer": "ipython3",
   "version": "3.8.12"
  }
 },
 "nbformat": 4,
 "nbformat_minor": 5
}
