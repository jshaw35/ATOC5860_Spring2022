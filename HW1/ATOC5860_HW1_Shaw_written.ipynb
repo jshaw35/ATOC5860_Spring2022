{
 "cells": [
  {
   "cell_type": "markdown",
   "id": "e31b47d0",
   "metadata": {},
   "source": [
    "# ATOC 5860: Homework 1"
   ]
  },
  {
   "cell_type": "markdown",
   "id": "82104933",
   "metadata": {},
   "source": [
    "Written responses"
   ]
  },
  {
   "cell_type": "markdown",
   "id": "1e627e59",
   "metadata": {},
   "source": [
    "### Jonah Shaw, 2022/01/24"
   ]
  },
  {
   "cell_type": "code",
   "execution_count": 3,
   "id": "4c930bb7",
   "metadata": {},
   "outputs": [],
   "source": [
    "import numpy as np\n",
    "import scipy.stats as stats\n",
    "import pandas as pd\n",
    "import matplotlib.pyplot as plt"
   ]
  },
  {
   "cell_type": "markdown",
   "id": "838d472c",
   "metadata": {},
   "source": [
    "## 1. Basic Statistics"
   ]
  },
  {
   "cell_type": "markdown",
   "id": "9c37aeac",
   "metadata": {},
   "source": [
    "__a) Bayes Theorem.  Assume background rates of COVID are 90% negative, 10% positive AND COVID tests are accurate 80% of the time, but fail 20% of the time. Your friend goes and gets a COVID test.  Your friend test negative. What is the probability that your friend is actually negative? Explain to your friend how you are using Bayes theorem to inform your thinking.  Hint: Review Lecture #1 and the 1.2.2.2 of the Barnes Notes. (10 points)__"
   ]
  },
  {
   "cell_type": "markdown",
   "id": "b9d16584",
   "metadata": {},
   "source": [
    "Bayes Theorem states:\n",
    "\n",
    "$$ P(A | B) = \\frac{P(B | A)P(A)}{P(B)}, $$\n",
    "\n",
    "where the probability of $B$ occurring $P(B)$ can be written as a sum over all possibilities of $A$:  \n",
    "\n",
    "$$ P(B) = \\sum_i P(B | A_i) $$"
   ]
  },
  {
   "cell_type": "markdown",
   "id": "d824e404",
   "metadata": {},
   "source": [
    "Let $C$ indicate that you are actually infected with COVID-19 ($\\tilde{C}$ indicates you do not have COVID).\n",
    "Similarly, let $p$ indicate that you test positive for COVID-19 ($\\tilde{p}$ indicates you test negative). From the prompt, we know that:\n",
    "- $P(C) = 0.10$ (background positive COVID rate)\n",
    "- $P(\\tilde{C}) = 0.90$\n",
    "- $P(p|C) = 0.80$ (true positive)\n",
    "- $P(\\tilde{p}|C) = 0.20$ (false negative)\n",
    "- $P(\\tilde{p}|\\tilde{C}) = 0.80$ (true negative)\n",
    "- $P(p|\\tilde{C}) = 0.20$ (false positive)\n"
   ]
  },
  {
   "cell_type": "markdown",
   "id": "a39d519b",
   "metadata": {},
   "source": [
    "Applying Bayes' Theorem, we can write the probability of being negative given a negative test and knowing the background rate of infect $P(\\tilde{C},\\tilde{p})$ as  \n",
    "\n",
    "$$ P(\\tilde{C},\\tilde{p}) = \\frac{P(\\tilde{p}|\\tilde{C})P(\\tilde{C})}{P(\\tilde{p}|C) P(C) + P(\\tilde{p}|\\tilde{C})P(\\tilde{C})} = \\frac{(0.80)(0.90)}{(0.20)(0.10) + (0.80)(0.90)} \\approx 97\\% $$"
   ]
  },
  {
   "cell_type": "code",
   "execution_count": 1,
   "id": "06d759c0-300f-49cb-b32b-6fbf90952dff",
   "metadata": {},
   "outputs": [
    {
     "data": {
      "text/plain": [
       "0.9729729729729729"
      ]
     },
     "execution_count": 1,
     "metadata": {},
     "output_type": "execute_result"
    }
   ],
   "source": [
    "0.8*0.9 / (0.2*0.1 + 0.8*0.9)"
   ]
  },
  {
   "cell_type": "markdown",
   "id": "7514a697",
   "metadata": {},
   "source": [
    "My Explanation:  \n",
    "The test error rates depend on whether you are actually positive or negative. Since we know the background rate of COVID, we use this prior to get a better estimate of the testing errors."
   ]
  },
  {
   "cell_type": "markdown",
   "id": "24df2ada",
   "metadata": {},
   "source": [
    "__b)\tExplain how to test whether a sample mean is significantly different than zero at the 95% confidence level and the 99% confidence level. State each of the 5 steps in hypothesis testing that you are using.  Contrast your approach for a sample with 15 independent observations (N=15) and a sample 1000 independent observations (N=1000). (15 points)__"
   ]
  },
  {
   "cell_type": "markdown",
   "id": "e31163ab",
   "metadata": {},
   "source": [
    "I would use hypothesis testing to test if a sample mean is statistically different from zero. This requires knowing the standard deviation of the sample, the sample mean, and the size of the sample."
   ]
  },
  {
   "cell_type": "markdown",
   "id": "81bc0069",
   "metadata": {},
   "source": [
    "The 5 steps in hypothesis testing are:\n",
    "\n",
    "1. State the significance level ($\\alpha$) (in this case $\\alpha = 0.05,0.01$).  \n",
    "\n",
    "2. State the null hypothesis. ($\\mu = 0$, i.e. the sample mean is zero).\n",
    "\n",
    "3. State the statistic used and its assumptions ($N=15 \\rightarrow$ t-stat, $N=10^3 \\rightarrow$ z-stat).\n",
    "\n",
    "4. State the critical region. We have no prior, so we used a two-tailed test.\n",
    "\n",
    "5. Evaluate the statistic and state the solution."
   ]
  },
  {
   "cell_type": "markdown",
   "id": "64a4b291",
   "metadata": {},
   "source": [
    "With 15 observations, we would use the t-statistic (Barnes Eq. 96), which produces a wider distribution than the standard z-statistic (Barnes Eq. 83) for small samples. With 1000 observations, we can confidently use the z-statistic."
   ]
  },
  {
   "cell_type": "markdown",
   "id": "5343a457-d1dc-489c-8ffe-3079d66c18f3",
   "metadata": {},
   "source": [
    "Critical z-stat for 95% confidence"
   ]
  },
  {
   "cell_type": "code",
   "execution_count": 5,
   "id": "43539b04-0290-4dc9-ad54-9cd0c615861f",
   "metadata": {},
   "outputs": [
    {
     "data": {
      "text/plain": [
       "1.959963984540054"
      ]
     },
     "execution_count": 5,
     "metadata": {},
     "output_type": "execute_result"
    }
   ],
   "source": [
    "stats.norm.ppf(0.975)"
   ]
  },
  {
   "cell_type": "markdown",
   "id": "5b1aea8f-334e-4af9-ae32-1d3986ba76ae",
   "metadata": {},
   "source": [
    "Critical z-stat for 99% confidence"
   ]
  },
  {
   "cell_type": "code",
   "execution_count": 7,
   "id": "b50ecbff-e493-4e5a-8add-2ff9eb909c39",
   "metadata": {},
   "outputs": [
    {
     "data": {
      "text/plain": [
       "2.5758293035489004"
      ]
     },
     "execution_count": 7,
     "metadata": {},
     "output_type": "execute_result"
    }
   ],
   "source": [
    "stats.norm.ppf(0.995)"
   ]
  },
  {
   "cell_type": "markdown",
   "id": "59a45533-280e-4025-87d7-7c8b33f7474b",
   "metadata": {},
   "source": [
    "Critical t-stat for 95% confidence with 15 samples"
   ]
  },
  {
   "cell_type": "code",
   "execution_count": 4,
   "id": "24cbd43b-2d59-4525-b11d-afe61e2c5812",
   "metadata": {},
   "outputs": [
    {
     "data": {
      "text/plain": [
       "2.1447866879169273"
      ]
     },
     "execution_count": 4,
     "metadata": {},
     "output_type": "execute_result"
    }
   ],
   "source": [
    "stats.t.ppf(0.975,14)"
   ]
  },
  {
   "cell_type": "markdown",
   "id": "8f331265-7eaa-40d6-8359-4de42f63bc8c",
   "metadata": {},
   "source": [
    "Critical t-stat for 95% confidence with 1000 samples"
   ]
  },
  {
   "cell_type": "code",
   "execution_count": 8,
   "id": "e0fa9611-63b0-4631-a4e3-ed8533ee0eb4",
   "metadata": {},
   "outputs": [
    {
     "data": {
      "text/plain": [
       "2.97684273411266"
      ]
     },
     "execution_count": 8,
     "metadata": {},
     "output_type": "execute_result"
    }
   ],
   "source": [
    "stats.t.ppf(0.995,14)"
   ]
  },
  {
   "cell_type": "markdown",
   "id": "406557c0",
   "metadata": {},
   "source": [
    "__c)\tDesign your own homework problem to compare two sample means using data of your own choice.  In other words, test whether two sample means are statistically different. Follow all five steps of hypothesis testing.  Hint: See page 26 of Barnes notes for an example. (15 points)__"
   ]
  },
  {
   "cell_type": "markdown",
   "id": "5a684503",
   "metadata": {},
   "source": [
    "You are a farmer raising a small flock of chickens. Every year, you get new chickens and weigh them before the end of the season. The chickens this year seem abnormally large and you are interested in knowing if there is a statistically significant (at 95% confidence) increase over the previous year.\n",
    "\n",
    "This year: 22 chickens with an average weight of 4.2lbs and a standard deviation of 1.2lbs.\n",
    "Last year: 27 chicken with an average weight of 3.1lbs and a standard deviation of 1.0lbs."
   ]
  },
  {
   "cell_type": "markdown",
   "id": "f3da5829",
   "metadata": {},
   "source": [
    "1. $\\alpha = 0.05$\n",
    "2. Null Hypothesis $H_0: \\mu_1 = \\mu_2$, $H_1: \\mu_1 > \\mu_2$\n",
    "3. $N < 30$, so we use the t-statistic.\n",
    "4. Critical region $t_c = t_{0.05} = 1.68$  \n",
    "5. Evaluate the statistic (below)."
   ]
  },
  {
   "cell_type": "code",
   "execution_count": 11,
   "id": "d24d63e9",
   "metadata": {},
   "outputs": [
    {
     "name": "stdout",
     "output_type": "stream",
     "text": [
      "Critical t-value:  1.67792672077558\n"
     ]
    }
   ],
   "source": [
    "N1=22; m1=4.2; std1=1.2\n",
    "N2=27; m2=3.1; std2=1.0 \n",
    "df = N1 + N2 - 2\n",
    "\n",
    "tstat95=stats.t.ppf(0.95,df) # one-tailed test at 95% confidence\n",
    "print('Critical t-value: ',tstat95)"
   ]
  },
  {
   "cell_type": "markdown",
   "id": "12981108",
   "metadata": {},
   "source": [
    "Because the sample sizes are small ($<30$), we use the t-statistic for comparing two samples (Barnes Eq. 106)  \n",
    "\n",
    "$$ t = \\frac{(\\overline{x_1} - \\overline{x_2}) - \\Delta_{1,2}}{\\hat{\\sigma}\\sqrt{\\frac{1}{N_1}+\\frac{1}{N_2}}}, $$\n",
    "\n",
    "where the pooled variance $\\hat{\\sigma}$ is given by (Barnes Eq. 107):\n",
    "\n",
    "$$ \\hat{\\sigma} = \\sqrt{\\frac{N_1 s_1^2 + N_2 s_2^2}{N_1 + N_2 -2}} $$"
   ]
  },
  {
   "cell_type": "code",
   "execution_count": 20,
   "id": "e71b8ce9",
   "metadata": {},
   "outputs": [
    {
     "name": "stdout",
     "output_type": "stream",
     "text": [
      "Pooled variance:  1.117367727428116\n",
      "Calculated t-statistic:  3.427612705571695\n"
     ]
    }
   ],
   "source": [
    "# Calculate the pooled std (sig_p)\n",
    "sig_p = np.sqrt((N1*std1**2 + N2*std2**2) / (N1 + N2 - 2))\n",
    "print('Pooled std.: ',sig_p)\n",
    "\n",
    "# Calculate the t-statistic. Here we assume that the population standard deviation is equal for the two years (to avoid using Welch's t-test).\n",
    "t_val = ((m1 - m2) - 0) / (sig_p * np.sqrt(1/N1 + 1/N2))\n",
    "print('Calculated t-statistic: ',t_val)"
   ]
  },
  {
   "cell_type": "markdown",
   "id": "b581ce86",
   "metadata": {},
   "source": [
    "Our calculated t-statistic is greater than the critical value, so we can discard the null hypothesis."
   ]
  },
  {
   "cell_type": "markdown",
   "id": "fc19b9f1",
   "metadata": {},
   "source": [
    "__d)\tDesign your own homework problem to place 95% confidence intervals on the mean value of a data variable of your choice. Use the non-standardized variable.  Hint: See Barnes notes on Confidence Intervals. (10 points)__"
   ]
  },
  {
   "cell_type": "markdown",
   "id": "4e893254",
   "metadata": {},
   "source": [
    "The same farmer from the previous question now wishes to generate a 95% confidence interval on the weight of this year's chickens. Use the same information (22 chickens with an average weight of 4.2lbs and a standard deviation of 1.2lbs) to generate the confidence interval."
   ]
  },
  {
   "cell_type": "markdown",
   "id": "7fb5802e",
   "metadata": {},
   "source": [
    "Again, we use the t-statistic because the sample size is small. But now our interval is two-tailed, so we calculate the critical t-value slightly differently."
   ]
  },
  {
   "cell_type": "markdown",
   "id": "9c7f0051",
   "metadata": {},
   "source": [
    "Barnes Eq. 90 shows the calculation of a confidence interval using a z-statistic:\n",
    "\n",
    "$$ \\mu = \\overline{x} \\pm z_{\\alpha/2} \\frac{\\sigma}{\\sqrt{N}}. $$"
   ]
  },
  {
   "cell_type": "markdown",
   "id": "02612a54",
   "metadata": {},
   "source": [
    "We can convert this to use with a t-statistic:  \n",
    "\n",
    "$$ \\mu = \\overline{x} \\pm t_{\\alpha/2} \\frac{s}{\\sqrt{N - 1}}. $$"
   ]
  },
  {
   "cell_type": "code",
   "execution_count": 26,
   "id": "130b9670",
   "metadata": {},
   "outputs": [
    {
     "name": "stdout",
     "output_type": "stream",
     "text": [
      "Lower bound:  3.6679498062732208\n",
      "Upper bound:  4.73205019372678\n"
     ]
    }
   ],
   "source": [
    "# Calculate a chicken size confidence interval\n",
    "N1=22; m1=4.2; std1=1.2\n",
    "\n",
    "tcrit = stats.t.ppf(0.975,N1-1)\n",
    "\n",
    "bound_low = m1 - tcrit * std1 / np.sqrt(N1)\n",
    "bound_high = m1 + tcrit * std1 / np.sqrt(N1)\n",
    "print('Lower bound: ',bound_low)\n",
    "print('Upper bound: ',bound_high)"
   ]
  },
  {
   "cell_type": "markdown",
   "id": "4d4b2820",
   "metadata": {},
   "source": [
    "4.73lbs is a big chicken!!"
   ]
  },
  {
   "cell_type": "markdown",
   "id": "f14fcb5d",
   "metadata": {},
   "source": [
    "__e)\tThe F-statistic is used to compare two sample standard deviations. Design your own homework problem to compare two sample standard deviations and assess if they are different at the 95% confidence interval. Hint: See page 38 of the Barnes notes. (10 points)__"
   ]
  },
  {
   "cell_type": "markdown",
   "id": "c48bf51b",
   "metadata": {},
   "source": [
    "We now return to the farm for a third and final encounter with our statistically-inclined fowl farmer. Our friend asks us, are the standard deviations of this year and last year different at a 99% confidence level?"
   ]
  },
  {
   "cell_type": "markdown",
   "id": "eab5a30d",
   "metadata": {},
   "source": [
    "Like the previous questions, we now need to perform confidence testing to compare these two distributions of chicken weights."
   ]
  },
  {
   "cell_type": "markdown",
   "id": "09c876d1",
   "metadata": {},
   "source": [
    "1. $\\alpha = 0.01$\n",
    "2. Null Hypothesis $H_0: s_1 = s_2$, $H_1: s_1 \\neq s_2$\n",
    "3. We are comparing standard deviations without a priori knowledge, so we use the f-statistic with a two-tailed test.\n",
    "4. Critical region $f_c = f_{0.005} = 1.68$  \n",
    "5. Evaluate the statistic (below)."
   ]
  },
  {
   "cell_type": "markdown",
   "id": "30e275ff",
   "metadata": {},
   "source": [
    "The $F$-statistic is given as (Barnes Eq. 121)  \n",
    "\n",
    "$$ F = \\frac{s_1^2 / \\sigma_1^2}{s_2^2 / \\sigma_2^2}, $$\n",
    "\n",
    "where $s$ is the sample variance and $\\sigma$ is the population variance. We will assume that our chicken samples are drawn from populations with equal variances ($\\sigma_1 = \\sigma_2$) so that the $F$-statistic simplifies to (Barnes Eq. 121) \n",
    "\n",
    "$$ F = \\frac{s_1^2}{s_2^2}. $$"
   ]
  },
  {
   "cell_type": "code",
   "execution_count": 21,
   "id": "896e11b2",
   "metadata": {},
   "outputs": [
    {
     "name": "stdout",
     "output_type": "stream",
     "text": [
      "Critical f-value:  2.6416386424516665\n",
      "Calculated f-value:  1.2\n"
     ]
    }
   ],
   "source": [
    "# Calculate the critical region\n",
    "f_crit = stats.f.ppf(q = 0.99, dfn = N1-1, dfd = N2-1)\n",
    "\n",
    "f = std1 / std2\n",
    "# f=sample_std1**2/sample_std2**2 # this is in the class notes ftest.ipynb, but these should be variances and not standard deviations per the Barnes notes (p.38)\n",
    "\n",
    "print('Critical f-value: ',f_crit)\n",
    "print('Calculated f-value: ',f)"
   ]
  },
  {
   "cell_type": "markdown",
   "id": "c9d1beff",
   "metadata": {},
   "source": [
    "The calculated f-value is less than the critical value, so we cannot discard the null hypothesis. The standard deviations of the different years may very well be the same."
   ]
  },
  {
   "cell_type": "markdown",
   "id": "d5f58c1e",
   "metadata": {},
   "source": [
    "## 2. Compare composite-averages using t/z tests and bootstrapping."
   ]
  },
  {
   "cell_type": "markdown",
   "id": "dee39b03",
   "metadata": {},
   "source": [
    "Note: coding is required for this problem. Please use python Jupyter notebooks.  It will be helpful follow the ipython notebook examples introduced in Application Lab #1 and in lectures. (40 points)"
   ]
  },
  {
   "cell_type": "markdown",
   "id": "a023fbd5",
   "metadata": {},
   "source": [
    "Your friend living in Fort Collins tells you that the air pressure is anomalous when there is measurable precipitation (greater than or equal to 0.01 inches). To test your friends’ hypothesis, use hourly observations from Fort Collins in 2014.  The data include both the precipitation amount in units of inches and pressure in units of hPa.  The data file is called homework1_data.csv."
   ]
  },
  {
   "cell_type": "code",
   "execution_count": 22,
   "id": "5b5d5c27",
   "metadata": {},
   "outputs": [],
   "source": [
    "# Load data\n",
    "data = pd.read_csv('homework1_data.csv',sep=',')"
   ]
  },
  {
   "cell_type": "code",
   "execution_count": 23,
   "id": "40628648",
   "metadata": {},
   "outputs": [
    {
     "data": {
      "text/html": [
       "<div>\n",
       "<style scoped>\n",
       "    .dataframe tbody tr th:only-of-type {\n",
       "        vertical-align: middle;\n",
       "    }\n",
       "\n",
       "    .dataframe tbody tr th {\n",
       "        vertical-align: top;\n",
       "    }\n",
       "\n",
       "    .dataframe thead th {\n",
       "        text-align: right;\n",
       "    }\n",
       "</style>\n",
       "<table border=\"1\" class=\"dataframe\">\n",
       "  <thead>\n",
       "    <tr style=\"text-align: right;\">\n",
       "      <th></th>\n",
       "      <th>P_hPa</th>\n",
       "      <th>R_inches</th>\n",
       "    </tr>\n",
       "  </thead>\n",
       "  <tbody>\n",
       "    <tr>\n",
       "      <th>0</th>\n",
       "      <td>842.63</td>\n",
       "      <td>0.0</td>\n",
       "    </tr>\n",
       "    <tr>\n",
       "      <th>1</th>\n",
       "      <td>842.58</td>\n",
       "      <td>0.0</td>\n",
       "    </tr>\n",
       "    <tr>\n",
       "      <th>2</th>\n",
       "      <td>842.13</td>\n",
       "      <td>0.0</td>\n",
       "    </tr>\n",
       "    <tr>\n",
       "      <th>3</th>\n",
       "      <td>842.38</td>\n",
       "      <td>0.0</td>\n",
       "    </tr>\n",
       "    <tr>\n",
       "      <th>4</th>\n",
       "      <td>842.57</td>\n",
       "      <td>0.0</td>\n",
       "    </tr>\n",
       "  </tbody>\n",
       "</table>\n",
       "</div>"
      ],
      "text/plain": [
       "    P_hPa  R_inches\n",
       "0  842.63       0.0\n",
       "1  842.58       0.0\n",
       "2  842.13       0.0\n",
       "3  842.38       0.0\n",
       "4  842.57       0.0"
      ]
     },
     "execution_count": 23,
     "metadata": {},
     "output_type": "execute_result"
    }
   ],
   "source": [
    "# First look at data\n",
    "data.head()"
   ]
  },
  {
   "cell_type": "code",
   "execution_count": 24,
   "id": "2030e150",
   "metadata": {},
   "outputs": [
    {
     "data": {
      "text/plain": [
       "Index(['P_hPa', 'R_inches'], dtype='object')"
      ]
     },
     "execution_count": 24,
     "metadata": {},
     "output_type": "execute_result"
    }
   ],
   "source": [
    "data.columns"
   ]
  },
  {
   "cell_type": "markdown",
   "id": "2daaf99b",
   "metadata": {},
   "source": [
    "__a)\tWhat was the average pressure in 2014 ($\\overline{P}$)?  What was the average pressure when it rained ($\\overline{P}_{R \\geq 0.01}$)?  (10 points)__"
   ]
  },
  {
   "cell_type": "code",
   "execution_count": 25,
   "id": "a3566462",
   "metadata": {},
   "outputs": [],
   "source": [
    "# Calculate the average pressure value\n",
    "P_avg = data['P_hPa'].mean()"
   ]
  },
  {
   "cell_type": "code",
   "execution_count": 26,
   "id": "73fc7630",
   "metadata": {},
   "outputs": [
    {
     "name": "stdout",
     "output_type": "stream",
     "text": [
      "Average Pressure in Ft. Collins in 2014: 846.33 hPa\n"
     ]
    }
   ],
   "source": [
    "print('Average Pressure in Ft. Collins in 2014: %.2f hPa' % P_avg)"
   ]
  },
  {
   "cell_type": "code",
   "execution_count": 27,
   "id": "a63b67cb",
   "metadata": {},
   "outputs": [],
   "source": [
    "P_raining_avg = data[data.R_inches>=0.01]['P_hPa'].mean()"
   ]
  },
  {
   "cell_type": "code",
   "execution_count": 28,
   "id": "de6a630d",
   "metadata": {},
   "outputs": [
    {
     "name": "stdout",
     "output_type": "stream",
     "text": [
      "Average Pressure in Ft. Collins in 2014 on days when rain was recorded: 847.03 hPa\n"
     ]
    }
   ],
   "source": [
    "print('Average Pressure in Ft. Collins in 2014 on days when rain was recorded: %.2f hPa' % P_raining_avg)"
   ]
  },
  {
   "cell_type": "markdown",
   "id": "bff9bc49",
   "metadata": {},
   "source": [
    "__b) Test your friends’ hypothesis by generating confidence intervals using both a t-statistic and a z-statistic. Is the average pressure different when it is raining?  What is more appropriate to use as a statistical test – a t- or a z-statistic? Use 95% confidence interval. (15 points)__"
   ]
  },
  {
   "cell_type": "code",
   "execution_count": 29,
   "id": "43141816",
   "metadata": {},
   "outputs": [
    {
     "data": {
      "text/plain": [
       "(384,)"
      ]
     },
     "execution_count": 29,
     "metadata": {},
     "output_type": "execute_result"
    }
   ],
   "source": [
    "data[data.R_inches>=0.01]['P_hPa'].shape"
   ]
  },
  {
   "cell_type": "code",
   "execution_count": 30,
   "id": "599a2caa",
   "metadata": {},
   "outputs": [
    {
     "data": {
      "text/plain": [
       "(8760,)"
      ]
     },
     "execution_count": 30,
     "metadata": {},
     "output_type": "execute_result"
    }
   ],
   "source": [
    "data['P_hPa'].shape"
   ]
  },
  {
   "cell_type": "markdown",
   "id": "c1085a43",
   "metadata": {},
   "source": [
    "There are 254 measurements of pressure during rain and 8760 measurements, so we can confidently use the z-statistic. That said, using the t-statistic is fine because it becomes the z-statistic for large N. Values should be very similar."
   ]
  },
  {
   "cell_type": "markdown",
   "id": "7ab580d7",
   "metadata": {},
   "source": [
    "__Perform hypothesis testing.__\n",
    "\n",
    "1. $\\alpha = 0.05$\n",
    "2. Null Hypothesis $H_0: \\mu_1 = \\mu_2$, $H_1: \\mu_1 \\neq \\mu_2$\n",
    "3. We are comparing sample means without a priori knowledge, so we use a two-tailed test. We are directed to use both a z- and t-statistic.\n",
    "4. Critical region $f_c = f_{0.025} = 1.96, t_c = t_{0.025} = 1.97$ (very similar critical values)  "
   ]
  },
  {
   "cell_type": "code",
   "execution_count": 38,
   "id": "bcbe064c",
   "metadata": {},
   "outputs": [
    {
     "name": "stdout",
     "output_type": "stream",
     "text": [
      "z-crit: 1.96\n",
      "t-crit: 1.97\n"
     ]
    }
   ],
   "source": [
    "z_crit = stats.norm.ppf(0.975)\n",
    "t_crit = stats.t.ppf(0.975,384-1)\n",
    "print('z-crit: %.2f' % z_crit)\n",
    "print('t-crit: %.2f' % t_crit)"
   ]
  },
  {
   "cell_type": "markdown",
   "id": "683d1247",
   "metadata": {},
   "source": [
    "5. Evaluate the statistic (below)."
   ]
  },
  {
   "cell_type": "markdown",
   "id": "7de1bcbc",
   "metadata": {},
   "source": [
    "#### First, I'll treat the data as a population (use simple z- and t-stats):"
   ]
  },
  {
   "cell_type": "markdown",
   "id": "934140a6",
   "metadata": {},
   "source": [
    "The z-statistic is (Barnes Eq. 93):  \n",
    "\n",
    "$$ z = \\frac{\\overline{X} - \\mu}{\\sigma / \\sqrt{N}} $$"
   ]
  },
  {
   "cell_type": "code",
   "execution_count": 32,
   "id": "a66067d0",
   "metadata": {},
   "outputs": [],
   "source": [
    "p_rain_std = np.std(data[data.R_inches>=0.01]['P_hPa'])\n",
    "N_rain = len(data[data.R_inches>=0.01]['P_hPa'])"
   ]
  },
  {
   "cell_type": "code",
   "execution_count": 33,
   "id": "228b966b",
   "metadata": {},
   "outputs": [
    {
     "name": "stdout",
     "output_type": "stream",
     "text": [
      "z-stat: 2.54\n"
     ]
    }
   ],
   "source": [
    "z_stat = (P_raining_avg - P_avg) / (p_rain_std / np.sqrt(N_rain))\n",
    "print('z-stat: %.2f' % z_stat)"
   ]
  },
  {
   "cell_type": "markdown",
   "id": "ffb46058",
   "metadata": {},
   "source": [
    "The t-statistic is (Barnes Eq. 96):  \n",
    "\n",
    "$$ t = \\frac{\\overline{x} - \\mu}{s / \\sqrt{N - 1}} $$"
   ]
  },
  {
   "cell_type": "code",
   "execution_count": 34,
   "id": "d133c704",
   "metadata": {},
   "outputs": [
    {
     "name": "stdout",
     "output_type": "stream",
     "text": [
      "t-stat: 2.54\n"
     ]
    }
   ],
   "source": [
    "t_stat = (P_raining_avg - P_avg) / (p_rain_std / np.sqrt(N_rain - 1))\n",
    "print('t-stat: %.2f' % t_stat)"
   ]
  },
  {
   "cell_type": "markdown",
   "id": "b94016e4",
   "metadata": {},
   "source": [
    "#### Now, I can see if these critical values change when I treat the full data as its own sample."
   ]
  },
  {
   "cell_type": "markdown",
   "id": "467caaba",
   "metadata": {},
   "source": [
    "$$ z = \\frac{(\\overline{x_1} - \\overline{x_2}) - \\Delta_{1,2}}{\\sqrt{\\frac{\\sigma_1^2}{N_1}+\\frac{\\sigma_2^2}{N_2}}}, $$\n"
   ]
  },
  {
   "cell_type": "code",
   "execution_count": 39,
   "id": "f443cd85",
   "metadata": {},
   "outputs": [
    {
     "name": "stdout",
     "output_type": "stream",
     "text": [
      "z-stat: 2.49\n"
     ]
    }
   ],
   "source": [
    "# Calculate the z-statistic\n",
    "p_all_std = np.std(data['P_hPa'])\n",
    "N_all = len(data['P_hPa'])\n",
    "\n",
    "z_stat_full = (P_raining_avg - P_avg - 0) / np.sqrt(p_all_std**2 / N_all + p_rain_std**2 / N_rain)\n",
    "print('z-stat: %.2f' % z_stat_full)"
   ]
  },
  {
   "cell_type": "markdown",
   "id": "ec1c8d0f",
   "metadata": {},
   "source": [
    "Because the sample sizes are small ($<30$), we use the t-statistic for comparing two samples (Barnes Eq. 106)  \n",
    "\n",
    "$$ t = \\frac{(\\overline{x_1} - \\overline{x_2}) - \\Delta_{1,2}}{\\hat{\\sigma}\\sqrt{\\frac{1}{N_1}+\\frac{1}{N_2}}}, $$\n",
    "\n",
    "where the pooled variance $\\hat{\\sigma}$ is given by (Barnes Eq. 107):\n",
    "\n",
    "$$ \\hat{\\sigma} = \\sqrt{\\frac{N_1 s_1^2 + N_2 s_2^2}{N_1 + N_2 -2}} $$"
   ]
  },
  {
   "cell_type": "code",
   "execution_count": 40,
   "id": "a985c842",
   "metadata": {},
   "outputs": [
    {
     "name": "stdout",
     "output_type": "stream",
     "text": [
      "Calculated t-statistic: 2.39\n"
     ]
    }
   ],
   "source": [
    "# Calculate the pooled std (sig_p)\n",
    "sig_p = np.sqrt((N_all*p_all_std**2 + N_rain*p_rain_std**2) / (N_all + N_rain - 2))\n",
    "# print('Pooled std.: ',sig_p)\n",
    "\n",
    "# Calculate the t-statistic. Here we assume that the population standard deviation is equal for the two years (to avoid using Welch's t-test).\n",
    "t_val = ((P_raining_avg - P_avg) - 0) / (sig_p * np.sqrt(1/N_all + 1/N_rain))\n",
    "print('Calculated t-statistic: %.2f' % t_val)"
   ]
  },
  {
   "cell_type": "markdown",
   "id": "de0865a7",
   "metadata": {},
   "source": [
    "In this case, using the t-statistic produces a more different value than I would have expected."
   ]
  },
  {
   "cell_type": "markdown",
   "id": "abbf5572",
   "metadata": {},
   "source": [
    "### Evaluate the statistics"
   ]
  },
  {
   "cell_type": "markdown",
   "id": "3a819500",
   "metadata": {},
   "source": [
    "z-crit: 1.96  \n",
    "t-crit: 1.97\n",
    "\n",
    "z-stat (assuming that all data represent the population): 2.54  \n",
    "t-stat (assuming that all data represent the population): 2.54\n",
    "\n",
    "z-stat (letting the population be its own sample): 2.49  \n",
    "t-stat (letting the population be its own sample): 2.39"
   ]
  },
  {
   "cell_type": "markdown",
   "id": "85d514ce",
   "metadata": {},
   "source": [
    "__Regardless of the statistics used, the critical value is always exceeded. We can discard the null hypothesis that pressure is unchanged when it rains.__"
   ]
  },
  {
   "cell_type": "markdown",
   "id": "7c082848",
   "metadata": {},
   "source": [
    "__c)\tInstead of the t/z-test – use bootstrap sampling to determine whether the local pressure is anomalously high during times when it is raining. How does your answer compare with your results using the t/z-test? (15 points)__"
   ]
  },
  {
   "cell_type": "markdown",
   "id": "e96e403c",
   "metadata": {},
   "source": [
    "Instructions for Bootstrapping: Say there are $N$ hourly periods when $R \\geq 0.01$ inches. Instead of averaging the pressure $P$ in those $N$ hours, randomly grab $N$ pressure values and take their average.  Then do this again, and again, and again 1000 times.  In the end you will end up with a distribution of mean $N$ pressures ($P_N$) in the case of random sampling, i.e., the distribution you would expect if there was no physical relationship between $P$ and $N$. Plot a histogram of this distribution and provide basic statistics describing this distribution( (mean, standard deviation, minimum, and maximum).  Then quantify the likelihood of getting your value $\\overline{P}_{R > 0.01}$ of by chance alone using percentiles of the boot-strap generated distribution of P_N.\n",
    "\n",
    "Aside: The name bootstrapping comes from the saying “pulling yourself up by your boot straps”, the idea of getting something for nothing. For this method you do not need to know the true distribution underlying your data. You just re-use the data you have to try to calculate the statistics you need."
   ]
  },
  {
   "cell_type": "markdown",
   "id": "d1140d17",
   "metadata": {},
   "source": [
    "__Perform bootstrapping:__"
   ]
  },
  {
   "cell_type": "code",
   "execution_count": 42,
   "id": "bdd803fd",
   "metadata": {},
   "outputs": [],
   "source": [
    "N_bootstraps = 1000 # number of resamplings taken\n",
    "\n",
    "bootstrap_statistic = np.empty(N_bootstraps) # save mean values here\n",
    "\n",
    "for i in range(N_bootstraps):\n",
    "        \n",
    "    #create a resample of SWE by sampling with replacement (same length as SWE)\n",
    "    resample_original = np.random.choice(data['P_hPa'], N_rain, replace=False)\n",
    "    \n",
    "    #Compute the test statistic from the resampled data\n",
    "    bootstrap_statistic[i] = np.mean(resample_original)"
   ]
  },
  {
   "cell_type": "code",
   "execution_count": 43,
   "id": "2f3e7861",
   "metadata": {},
   "outputs": [
    {
     "name": "stdout",
     "output_type": "stream",
     "text": [
      "Bootstrapping distribution mean: 846.34 \n",
      "Bootstrapping distribution standard deviation: 0.28 \n",
      "Bootstrapping distribution minimum: 845.07 \n",
      "Bootstrapping distribution maximum: 847.24 \n"
     ]
    },
    {
     "data": {
      "image/png": "[encoded data removed]",
      "text/plain": [
       "<Figure size 432x288 with 1 Axes>"
      ]
     },
     "metadata": {
      "needs_background": "light"
     },
     "output_type": "display_data"
    }
   ],
   "source": [
    "# Plot the distribution of the test statistic\n",
    "plt.hist(bootstrap_statistic,np.arange(845,847.76,0.25),edgecolor='black')\n",
    "plt.xlabel('Difference in sample means')\n",
    "plt.ylabel('Count')\n",
    "plt.title('Bootstrap distribution of sample means')\n",
    "\n",
    "# Print basic statistics describing the bootstrapping distribution\n",
    "print('Bootstrapping distribution mean: %.2f ' % np.mean(bootstrap_statistic))\n",
    "print('Bootstrapping distribution standard deviation: %.2f ' % np.std(bootstrap_statistic))\n",
    "print('Bootstrapping distribution minimum: %.2f ' % np.min(bootstrap_statistic))\n",
    "print('Bootstrapping distribution maximum: %.2f ' % np.max(bootstrap_statistic))"
   ]
  },
  {
   "cell_type": "code",
   "execution_count": 46,
   "id": "8a1baca8",
   "metadata": {},
   "outputs": [
    {
     "name": "stdout",
     "output_type": "stream",
     "text": [
      "845.7667662760418\n",
      "846.8702460937501\n"
     ]
    }
   ],
   "source": [
    "#Create 95% CI from the bootstrapped distribution. The upper limit of the CI is defined as the 97.5% percentile\n",
    "#and the lower limit as the 2.5% percentile of the boostrap distribution, so that 95% of the \n",
    "#distribution lies within the two limits\n",
    "\n",
    "alpha = 0.05 # 95% confidence\n",
    "\n",
    "CI_up = np.percentile(bootstrap_statistic, 100*(1 - alpha/2.0))\n",
    "CI_lo = np.percentile(bootstrap_statistic, 100*(alpha/2.0))\n",
    "\n",
    "print(CI_lo)\n",
    "print(CI_up)"
   ]
  },
  {
   "cell_type": "code",
   "execution_count": 45,
   "id": "be976052",
   "metadata": {},
   "outputs": [
    {
     "data": {
      "text/plain": [
       "847.0306249999999"
      ]
     },
     "execution_count": 45,
     "metadata": {},
     "output_type": "execute_result"
    }
   ],
   "source": [
    "P_raining_avg"
   ]
  },
  {
   "cell_type": "markdown",
   "id": "dbdaa8da",
   "metadata": {},
   "source": [
    "Since the average pressure during rain falls outside the confidence interval from the bootstrapping distribution, this method agrees that the pressure is statistically different when it rains."
   ]
  },
  {
   "cell_type": "code",
   "execution_count": null,
   "id": "f3cdf039",
   "metadata": {},
   "outputs": [],
   "source": []
  }
 ],
 "metadata": {
  "kernelspec": {
   "display_name": "pangeo",
   "language": "python",
   "name": "pangeo"
  },
  "language_info": {
   "codemirror_mode": {
    "name": "ipython",
    "version": 3
   },
   "file_extension": ".py",
   "mimetype": "text/x-python",
   "name": "python",
   "nbconvert_exporter": "python",
   "pygments_lexer": "ipython3",
   "version": "3.8.12"
  }
 },
 "nbformat": 4,
 "nbformat_minor": 5
}
