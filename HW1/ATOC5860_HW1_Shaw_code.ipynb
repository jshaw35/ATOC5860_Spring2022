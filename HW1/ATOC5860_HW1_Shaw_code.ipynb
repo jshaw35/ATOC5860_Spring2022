{
 "cells": [
  {
   "cell_type": "markdown",
   "id": "708e1f78",
   "metadata": {},
   "source": [
    "# ATOC 5860: Homework 1"
   ]
  },
  {
   "cell_type": "markdown",
   "id": "9c53892a",
   "metadata": {},
   "source": [
    "Coded solutions"
   ]
  },
  {
   "cell_type": "markdown",
   "id": "cc05dca4",
   "metadata": {},
   "source": [
    "### Jonah Shaw, 2022/01/24"
   ]
  },
  {
   "cell_type": "markdown",
   "id": "4088e3c8",
   "metadata": {},
   "source": [
    "## 1. Basic Statistics"
   ]
  },
  {
   "cell_type": "markdown",
   "id": "581ca86b",
   "metadata": {},
   "source": [
    "a) Bayes Theorem.  Assume background rates of COVID are 90% negative, 10% positive AND COVID tests are accurate 80% of the time, but fail 20% of the time. Your friend goes and gets a COVID test.  Your friend test negative. What is the probability that your friend is actually negative? Explain to your friend how you are using Bayes theorem to inform your thinking.  Hint: Review Lecture #1 and the 1.2.2.2 of the Barnes Notes. (10 points)\n",
    "\n"
   ]
  },
  {
   "cell_type": "code",
   "execution_count": null,
   "id": "d08c7e3f",
   "metadata": {},
   "outputs": [],
   "source": []
  }
 ],
 "metadata": {
  "kernelspec": {
   "display_name": "pangeo",
   "language": "python",
   "name": "pangeo"
  },
  "language_info": {
   "codemirror_mode": {
    "name": "ipython",
    "version": 3
   },
   "file_extension": ".py",
   "mimetype": "text/x-python",
   "name": "python",
   "nbconvert_exporter": "python",
   "pygments_lexer": "ipython3",
   "version": "3.8.12"
  }
 },
 "nbformat": 4,
 "nbformat_minor": 5
}
