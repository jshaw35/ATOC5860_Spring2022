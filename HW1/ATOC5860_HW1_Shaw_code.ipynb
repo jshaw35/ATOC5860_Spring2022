{
 "cells": [
  {
   "cell_type": "markdown",
   "id": "4df0894d-fba4-4461-9271-508af507efd1",
   "metadata": {
    "tags": []
   },
   "source": [
    "# ATOC 5860: Homework 1"
   ]
  },
  {
   "cell_type": "markdown",
   "id": "2211c914-d894-4e7f-a0a8-8d78980c61d4",
   "metadata": {
    "tags": []
   },
   "source": [
    "Full Answers"
   ]
  },
  {
   "cell_type": "markdown",
   "id": "8f563417-1c63-4ee5-aa28-b41205dfeb1e",
   "metadata": {},
   "source": [
    "### Jonah Shaw, 2022/01/24"
   ]
  },
  {
   "cell_type": "code",
   "execution_count": 13,
   "id": "fce703f8-2709-4428-b59d-277bc4cd9a52",
   "metadata": {
    "jupyter": {
     "source_hidden": true
    },
    "tags": []
   },
   "outputs": [],
   "source": [
    "import numpy as np\n",
    "import scipy.stats as stats\n",
    "import pandas as pd\n",
    "import matplotlib.pyplot as plt"
   ]
  },
  {
   "cell_type": "markdown",
   "id": "939cd83d-b444-483e-b374-3638e491835d",
   "metadata": {},
   "source": [
    "## 1. Basic Statistics"
   ]
  },
  {
   "cell_type": "markdown",
   "id": "f5e6fa58-bda1-4c45-a40c-c7804445ea75",
   "metadata": {},
   "source": [
    "__a) Bayes Theorem.  Assume background rates of COVID are 90% negative, 10% positive AND COVID tests are accurate 80% of the time, but fail 20% of the time. Your friend goes and gets a COVID test.  Your friend test negative. What is the probability that your friend is actually negative? Explain to your friend how you are using Bayes theorem to inform your thinking.  Hint: Review Lecture #1 and the 1.2.2.2 of the Barnes Notes. (10 points)__"
   ]
  },
  {
   "cell_type": "markdown",
   "id": "b6ba8653-e2af-4b20-b946-2547941627b7",
   "metadata": {},
   "source": [
    "Bayes Theorem states:\n",
    "\n",
    "$$ P(A | B) = \\frac{P(B | A)P(A)}{P(B)}, $$\n",
    "\n",
    "where the probability of $B$ occurring $P(B)$ can be written as a sum over all possibilities of $A$:  \n",
    "\n",
    "$$ P(B) = \\sum_i P(B | A_i) $$"
   ]
  },
  {
   "cell_type": "markdown",
   "id": "4736484c-0a20-4c7b-878e-3f495b953863",
   "metadata": {},
   "source": [
    "Let $C$ indicate that you are actually infected with COVID-19 ($\\tilde{C}$ indicates you do not have COVID).\n",
    "Similarly, let $p$ indicate that you test positive for COVID-19 ($\\tilde{p}$ indicates you test negative). From the prompt, we know that:\n",
    "- $P(C) = 0.10$ (background positive COVID rate)\n",
    "- $P(\\tilde{C}) = 0.90$\n",
    "- $P(p|C) = 0.80$ (true positive)\n",
    "- $P(\\tilde{p}|C) = 0.20$ (false negative)\n",
    "- $P(\\tilde{p}|\\tilde{C}) = 0.80$ (true negative)\n",
    "- $P(p|\\tilde{C}) = 0.20$ (false positive)\n"
   ]
  },
  {
   "cell_type": "markdown",
   "id": "780ce583-c26e-4d7f-893d-e99dbf4b3ba5",
   "metadata": {},
   "source": [
    "Applying Bayes' Theorem, we can write the probability of being negative given a negative test and knowing the background rate of infect $P(\\tilde{C},\\tilde{p})$ as  \n",
    "\n",
    "$$ P(\\tilde{C},\\tilde{p}) = \\frac{P(\\tilde{p}|\\tilde{C})P(\\tilde{C})}{P(\\tilde{p}|C) P(C) + P(\\tilde{p}|\\tilde{C})P(\\tilde{C})} = \\frac{(0.80)(0.90)}{(0.20)(0.10) + (0.80)(0.90)} \\approx 97\\% $$"
   ]
  },
  {
   "cell_type": "code",
   "execution_count": 14,
   "id": "a99ba1fd-4d5a-45b0-8572-a5d0f95e07ff",
   "metadata": {
    "jupyter": {
     "source_hidden": true
    },
    "tags": []
   },
   "outputs": [
    {
     "data": {
      "text/plain": [
       "0.9729729729729729"
      ]
     },
     "execution_count": 14,
     "metadata": {},
     "output_type": "execute_result"
    }
   ],
   "source": [
    "0.8*0.9 / (0.2*0.1 + 0.8*0.9)"
   ]
  },
  {
   "cell_type": "markdown",
   "id": "f80f867f-481d-43d2-9516-e9eb1ede1b90",
   "metadata": {},
   "source": [
    "My Explanation:  \n",
    "The test error rates depend on whether you are actually positive or negative. Since we know the background rate of COVID, we use this prior to get a better estimate of the testing errors."
   ]
  },
  {
   "cell_type": "markdown",
   "id": "fbfac627-d298-4b9d-a9ec-b56e565f8521",
   "metadata": {},
   "source": [
    "__b)\tExplain how to test whether a sample mean is significantly different than zero at the 95% confidence level and the 99% confidence level. State each of the 5 steps in hypothesis testing that you are using.  Contrast your approach for a sample with 15 independent observations (N=15) and a sample 1000 independent observations (N=1000). (15 points)__"
   ]
  },
  {
   "cell_type": "markdown",
   "id": "4a09ab5b-94f2-48be-b813-d9b47eb97d17",
   "metadata": {},
   "source": [
    "I would use hypothesis testing to test if a sample mean is statistically different from zero. This requires knowing the standard deviation of the sample, the sample mean, and the size of the sample."
   ]
  },
  {
   "cell_type": "markdown",
   "id": "b0cb7763-c33e-46ac-81ce-45efe3104a5f",
   "metadata": {},
   "source": [
    "The 5 steps in hypothesis testing are:\n",
    "\n",
    "1. State the significance level ($\\alpha$) (in this case $\\alpha = 0.05,0.01$).  \n",
    "\n",
    "2. State the null hypothesis. ($\\mu = 0$, i.e. the sample mean is zero).\n",
    "\n",
    "3. State the statistic used and its assumptions ($N=15 \\rightarrow$ t-stat, $N=10^3 \\rightarrow$ z-stat).\n",
    "\n",
    "4. State the critical region. We have no prior, so we used a two-tailed test.\n",
    "\n",
    "5. Evaluate the statistic and state the solution."
   ]
  },
  {
   "cell_type": "markdown",
   "id": "a69c776d-ff07-4b17-a8b2-a5de0f5e791c",
   "metadata": {},
   "source": [
    "With 15 observations, we would use the t-statistic (Barnes Eq. 96), which produces a wider distribution than the standard z-statistic (Barnes Eq. 83) for small samples. With 1000 observations, we can confidently use the z-statistic."
   ]
  },
  {
   "cell_type": "markdown",
   "id": "6808fa51-4116-4069-a9e8-5b87bf024376",
   "metadata": {},
   "source": [
    "Critical z-stat for 95% confidence"
   ]
  },
  {
   "cell_type": "code",
   "execution_count": 15,
   "id": "fc9398f4-78cd-4c4b-894f-e04988d16b2f",
   "metadata": {
    "jupyter": {
     "source_hidden": true
    },
    "tags": []
   },
   "outputs": [
    {
     "data": {
      "text/plain": [
       "1.959963984540054"
      ]
     },
     "execution_count": 15,
     "metadata": {},
     "output_type": "execute_result"
    }
   ],
   "source": [
    "stats.norm.ppf(0.975)"
   ]
  },
  {
   "cell_type": "markdown",
   "id": "2cbb50bd-9378-4005-8fb3-463b3e25f818",
   "metadata": {},
   "source": [
    "Critical z-stat for 99% confidence"
   ]
  },
  {
   "cell_type": "code",
   "execution_count": 16,
   "id": "46eeb414-93ee-49a8-bdc6-e2eca1f18a33",
   "metadata": {
    "jupyter": {
     "source_hidden": true
    },
    "tags": []
   },
   "outputs": [
    {
     "data": {
      "text/plain": [
       "2.5758293035489004"
      ]
     },
     "execution_count": 16,
     "metadata": {},
     "output_type": "execute_result"
    }
   ],
   "source": [
    "stats.norm.ppf(0.995)"
   ]
  },
  {
   "cell_type": "markdown",
   "id": "70273007-3879-43e2-afb4-8ad895c1c2c9",
   "metadata": {},
   "source": [
    "Critical t-stat for 95% confidence with 15 samples"
   ]
  },
  {
   "cell_type": "code",
   "execution_count": 17,
   "id": "39d15719-9070-4a81-8c43-57bd5c4a842b",
   "metadata": {
    "jupyter": {
     "source_hidden": true
    },
    "tags": []
   },
   "outputs": [
    {
     "data": {
      "text/plain": [
       "2.1447866879169273"
      ]
     },
     "execution_count": 17,
     "metadata": {},
     "output_type": "execute_result"
    }
   ],
   "source": [
    "stats.t.ppf(0.975,14)"
   ]
  },
  {
   "cell_type": "markdown",
   "id": "e28e91e2-3b81-41d8-a492-c93b479276bd",
   "metadata": {},
   "source": [
    "Critical t-stat for 95% confidence with 1000 samples"
   ]
  },
  {
   "cell_type": "code",
   "execution_count": 18,
   "id": "97b2c1b9-ccf5-4227-89ed-5487d79aac31",
   "metadata": {
    "jupyter": {
     "source_hidden": true
    },
    "tags": []
   },
   "outputs": [
    {
     "data": {
      "text/plain": [
       "2.97684273411266"
      ]
     },
     "execution_count": 18,
     "metadata": {},
     "output_type": "execute_result"
    }
   ],
   "source": [
    "stats.t.ppf(0.995,14)"
   ]
  },
  {
   "cell_type": "markdown",
   "id": "ae6d674d-3725-4107-b763-f861120221bc",
   "metadata": {},
   "source": [
    "__c)\tDesign your own homework problem to compare two sample means using data of your own choice.  In other words, test whether two sample means are statistically different. Follow all five steps of hypothesis testing.  Hint: See page 26 of Barnes notes for an example. (15 points)__"
   ]
  },
  {
   "cell_type": "markdown",
   "id": "c72647f2-0bd1-4583-b8e5-9ede05145106",
   "metadata": {},
   "source": [
    "You are a farmer raising a small flock of chickens. Every year, you get new chickens and weigh them before the end of the season. The chickens this year seem abnormally large and you are interested in knowing if there is a statistically significant (at 95% confidence) increase over the previous year.\n",
    "\n",
    "This year: 22 chickens with an average weight of 4.2lbs and a standard deviation of 1.2lbs.\n",
    "Last year: 27 chicken with an average weight of 3.1lbs and a standard deviation of 1.0lbs."
   ]
  },
  {
   "cell_type": "markdown",
   "id": "7a83df16-6614-4614-8ef5-911b219cdcfc",
   "metadata": {},
   "source": [
    "1. $\\alpha = 0.05$\n",
    "2. Null Hypothesis $H_0: \\mu_1 = \\mu_2$, $H_1: \\mu_1 > \\mu_2$\n",
    "3. $N < 30$, so we use the t-statistic.\n",
    "4. Critical region $t_c = t_{0.05} = 1.68$  \n",
    "5. Evaluate the statistic (below)."
   ]
  },
  {
   "cell_type": "code",
   "execution_count": 19,
   "id": "8b37a60e-2987-4a55-bf4b-6c038c77676b",
   "metadata": {
    "jupyter": {
     "source_hidden": true
    },
    "tags": []
   },
   "outputs": [
    {
     "name": "stdout",
     "output_type": "stream",
     "text": [
      "Critical t-value:  1.67792672077558\n"
     ]
    }
   ],
   "source": [
    "N1=22; m1=4.2; std1=1.2\n",
    "N2=27; m2=3.1; std2=1.0 \n",
    "df = N1 + N2 - 2\n",
    "\n",
    "tstat95=stats.t.ppf(0.95,df) # one-tailed test at 95% confidence\n",
    "print('Critical t-value: ',tstat95)"
   ]
  },
  {
   "cell_type": "markdown",
   "id": "7ffbcd74-1644-4067-97a3-746b64f30be2",
   "metadata": {},
   "source": [
    "Because the sample sizes are small ($<30$), we use the t-statistic for comparing two samples (Barnes Eq. 106)  \n",
    "\n",
    "$$ t = \\frac{(\\overline{x_1} - \\overline{x_2}) - \\Delta_{1,2}}{\\hat{\\sigma}\\sqrt{\\frac{1}{N_1}+\\frac{1}{N_2}}}, $$\n",
    "\n",
    "where the pooled variance $\\hat{\\sigma}$ is given by (Barnes Eq. 107):\n",
    "\n",
    "$$ \\hat{\\sigma} = \\sqrt{\\frac{N_1 s_1^2 + N_2 s_2^2}{N_1 + N_2 -2}} $$"
   ]
  },
  {
   "cell_type": "code",
   "execution_count": 20,
   "id": "66840b33-3d35-4e55-8b98-f78e6cdf7dd9",
   "metadata": {
    "jupyter": {
     "source_hidden": true
    },
    "tags": []
   },
   "outputs": [
    {
     "name": "stdout",
     "output_type": "stream",
     "text": [
      "Pooled std.:  1.117367727428116\n",
      "Calculated t-statistic:  3.427612705571695\n"
     ]
    }
   ],
   "source": [
    "# Calculate the pooled std (sig_p)\n",
    "sig_p = np.sqrt((N1*std1**2 + N2*std2**2) / (N1 + N2 - 2))\n",
    "print('Pooled std.: ',sig_p)\n",
    "\n",
    "# Calculate the t-statistic. Here we assume that the population standard deviation is equal for the two years (to avoid using Welch's t-test).\n",
    "t_val = ((m1 - m2) - 0) / (sig_p * np.sqrt(1/N1 + 1/N2))\n",
    "print('Calculated t-statistic: ',t_val)"
   ]
  },
  {
   "cell_type": "markdown",
   "id": "d2fbdb5b-f0db-45aa-83a1-08f2213ee8d1",
   "metadata": {},
   "source": [
    "Our calculated t-statistic is greater than the critical value, so we can discard the null hypothesis."
   ]
  },
  {
   "cell_type": "markdown",
   "id": "593c5f04-152f-4cd8-a97f-eda6f6b3b80d",
   "metadata": {},
   "source": [
    "__d)\tDesign your own homework problem to place 95% confidence intervals on the mean value of a data variable of your choice. Use the non-standardized variable.  Hint: See Barnes notes on Confidence Intervals. (10 points)__"
   ]
  },
  {
   "cell_type": "markdown",
   "id": "5360905f-495a-4a3a-b351-30b2e08eccff",
   "metadata": {},
   "source": [
    "The same farmer from the previous question now wishes to generate a 95% confidence interval on the weight of this year's chickens. Use the same information (22 chickens with an average weight of 4.2lbs and a standard deviation of 1.2lbs) to generate the confidence interval."
   ]
  },
  {
   "cell_type": "markdown",
   "id": "23e25859-134e-4756-9b8e-90504c998267",
   "metadata": {},
   "source": [
    "Again, we use the t-statistic because the sample size is small. But now our interval is two-tailed, so we calculate the critical t-value slightly differently."
   ]
  },
  {
   "cell_type": "markdown",
   "id": "1c725123-3270-40fa-933c-17436e5726f6",
   "metadata": {},
   "source": [
    "Barnes Eq. 90 shows the calculation of a confidence interval using a z-statistic:\n",
    "\n",
    "$$ \\mu = \\overline{x} \\pm z_{\\alpha/2} \\frac{\\sigma}{\\sqrt{N}}. $$"
   ]
  },
  {
   "cell_type": "markdown",
   "id": "e79bca9a-a75a-4b6f-b50e-d1cadd2f21f4",
   "metadata": {},
   "source": [
    "We can convert this to use with a t-statistic:  \n",
    "\n",
    "$$ \\mu = \\overline{x} \\pm t_{\\alpha/2} \\frac{s}{\\sqrt{N - 1}}. $$"
   ]
  },
  {
   "cell_type": "code",
   "execution_count": 21,
   "id": "ab110988-07a3-4d5d-b171-8efa3830d2e1",
   "metadata": {
    "jupyter": {
     "source_hidden": true
    },
    "tags": []
   },
   "outputs": [
    {
     "name": "stdout",
     "output_type": "stream",
     "text": [
      "Lower bound:  3.6679498062732208\n",
      "Upper bound:  4.73205019372678\n"
     ]
    }
   ],
   "source": [
    "# Calculate a chicken size confidence interval\n",
    "N1=22; m1=4.2; std1=1.2\n",
    "\n",
    "tcrit = stats.t.ppf(0.975,N1-1)\n",
    "\n",
    "bound_low = m1 - tcrit * std1 / np.sqrt(N1)\n",
    "bound_high = m1 + tcrit * std1 / np.sqrt(N1)\n",
    "print('Lower bound: ',bound_low)\n",
    "print('Upper bound: ',bound_high)"
   ]
  },
  {
   "cell_type": "markdown",
   "id": "dba65b46-0879-4b75-bd1b-0b01038dc486",
   "metadata": {},
   "source": [
    "4.73lbs is a big chicken!!"
   ]
  },
  {
   "cell_type": "markdown",
   "id": "c41f65cf-afdf-4283-8253-6b6cfbed44ad",
   "metadata": {},
   "source": [
    "__e)\tThe F-statistic is used to compare two sample standard deviations. Design your own homework problem to compare two sample standard deviations and assess if they are different at the 95% confidence interval. Hint: See page 38 of the Barnes notes. (10 points)__"
   ]
  },
  {
   "cell_type": "markdown",
   "id": "9f06687c-a886-45a0-96e5-95ec8a4e084d",
   "metadata": {},
   "source": [
    "We now return to the farm for a third and final encounter with our statistically-inclined fowl farmer. Our friend asks us, are the standard deviations of this year and last year different at a 99% confidence level?"
   ]
  },
  {
   "cell_type": "markdown",
   "id": "5eebb099-eed7-4e20-af3f-8a484212e306",
   "metadata": {},
   "source": [
    "Like the previous questions, we now need to perform confidence testing to compare these two distributions of chicken weights."
   ]
  },
  {
   "cell_type": "markdown",
   "id": "f3ee74c4-3f16-442c-a5a1-3d2c545cc8c3",
   "metadata": {},
   "source": [
    "1. $\\alpha = 0.01$\n",
    "2. Null Hypothesis $H_0: s_1 = s_2$, $H_1: s_1 \\neq s_2$\n",
    "3. We are comparing standard deviations without a priori knowledge, so we use the f-statistic with a two-tailed test.\n",
    "4. Critical region $f_c = f_{0.005} = 1.68$  \n",
    "5. Evaluate the statistic (below)."
   ]
  },
  {
   "cell_type": "markdown",
   "id": "a3c2ff82-c185-4050-a968-30bfcaca8629",
   "metadata": {},
   "source": [
    "The $F$-statistic is given as (Barnes Eq. 121)  \n",
    "\n",
    "$$ F = \\frac{s_1^2 / \\sigma_1^2}{s_2^2 / \\sigma_2^2}, $$\n",
    "\n",
    "where $s$ is the sample variance and $\\sigma$ is the population variance. We will assume that our chicken samples are drawn from populations with equal variances ($\\sigma_1 = \\sigma_2$) so that the $F$-statistic simplifies to (Barnes Eq. 121) \n",
    "\n",
    "$$ F = \\frac{s_1^2}{s_2^2}. $$"
   ]
  },
  {
   "cell_type": "code",
   "execution_count": 22,
   "id": "ee25d92e-4f2d-47ea-9b3e-817d0f8c787b",
   "metadata": {
    "jupyter": {
     "source_hidden": true
    },
    "tags": []
   },
   "outputs": [
    {
     "name": "stdout",
     "output_type": "stream",
     "text": [
      "Critical f-value:  2.6416386424516665\n",
      "Calculated f-value:  1.2\n"
     ]
    }
   ],
   "source": [
    "# Calculate the critical region\n",
    "f_crit = stats.f.ppf(q = 0.99, dfn = N1-1, dfd = N2-1)\n",
    "\n",
    "f = std1 / std2\n",
    "# f=sample_std1**2/sample_std2**2 # this is in the class notes ftest.ipynb, but these should be variances and not standard deviations per the Barnes notes (p.38)\n",
    "\n",
    "print('Critical f-value: ',f_crit)\n",
    "print('Calculated f-value: ',f)"
   ]
  },
  {
   "cell_type": "markdown",
   "id": "52cc2d37-851c-4b78-81b4-d57259ccbdc6",
   "metadata": {},
   "source": [
    "The calculated f-value is less than the critical value, so we cannot discard the null hypothesis. The standard deviations of the different years may very well be the same."
   ]
  },
  {
   "cell_type": "markdown",
   "id": "0221e6a2-ac2c-4442-aa3f-e0f9b8c41684",
   "metadata": {},
   "source": [
    "## 2. Compare composite-averages using t/z tests and bootstrapping."
   ]
  },
  {
   "cell_type": "markdown",
   "id": "375fcfde-9a8a-490a-87a1-2ba79bb187cc",
   "metadata": {},
   "source": [
    "Note: coding is required for this problem. Please use python Jupyter notebooks.  It will be helpful follow the ipython notebook examples introduced in Application Lab #1 and in lectures. (40 points)"
   ]
  },
  {
   "cell_type": "markdown",
   "id": "ca13d64d-7c91-4b9d-a048-0e14d0978b8f",
   "metadata": {},
   "source": [
    "Your friend living in Fort Collins tells you that the air pressure is anomalous when there is measurable precipitation (greater than or equal to 0.01 inches). To test your friends’ hypothesis, use hourly observations from Fort Collins in 2014.  The data include both the precipitation amount in units of inches and pressure in units of hPa.  The data file is called homework1_data.csv."
   ]
  },
  {
   "cell_type": "code",
   "execution_count": 23,
   "id": "d8fc34fc-c4ca-4062-a30c-dc5aacc4c872",
   "metadata": {
    "jupyter": {
     "source_hidden": true
    },
    "tags": []
   },
   "outputs": [],
   "source": [
    "# Load data\n",
    "data = pd.read_csv('homework1_data.csv',sep=',')"
   ]
  },
  {
   "cell_type": "code",
   "execution_count": 24,
   "id": "c89dd343-8d88-4512-8fb7-9b7972ff96c7",
   "metadata": {
    "jupyter": {
     "source_hidden": true
    },
    "tags": []
   },
   "outputs": [
    {
     "data": {
      "text/html": [
       "<div>\n",
       "<style scoped>\n",
       "    .dataframe tbody tr th:only-of-type {\n",
       "        vertical-align: middle;\n",
       "    }\n",
       "\n",
       "    .dataframe tbody tr th {\n",
       "        vertical-align: top;\n",
       "    }\n",
       "\n",
       "    .dataframe thead th {\n",
       "        text-align: right;\n",
       "    }\n",
       "</style>\n",
       "<table border=\"1\" class=\"dataframe\">\n",
       "  <thead>\n",
       "    <tr style=\"text-align: right;\">\n",
       "      <th></th>\n",
       "      <th>P_hPa</th>\n",
       "      <th>R_inches</th>\n",
       "    </tr>\n",
       "  </thead>\n",
       "  <tbody>\n",
       "    <tr>\n",
       "      <th>0</th>\n",
       "      <td>842.63</td>\n",
       "      <td>0.0</td>\n",
       "    </tr>\n",
       "    <tr>\n",
       "      <th>1</th>\n",
       "      <td>842.58</td>\n",
       "      <td>0.0</td>\n",
       "    </tr>\n",
       "    <tr>\n",
       "      <th>2</th>\n",
       "      <td>842.13</td>\n",
       "      <td>0.0</td>\n",
       "    </tr>\n",
       "    <tr>\n",
       "      <th>3</th>\n",
       "      <td>842.38</td>\n",
       "      <td>0.0</td>\n",
       "    </tr>\n",
       "    <tr>\n",
       "      <th>4</th>\n",
       "      <td>842.57</td>\n",
       "      <td>0.0</td>\n",
       "    </tr>\n",
       "  </tbody>\n",
       "</table>\n",
       "</div>"
      ],
      "text/plain": [
       "    P_hPa  R_inches\n",
       "0  842.63       0.0\n",
       "1  842.58       0.0\n",
       "2  842.13       0.0\n",
       "3  842.38       0.0\n",
       "4  842.57       0.0"
      ]
     },
     "execution_count": 24,
     "metadata": {},
     "output_type": "execute_result"
    }
   ],
   "source": [
    "# First look at data\n",
    "data.head()"
   ]
  },
  {
   "cell_type": "code",
   "execution_count": 25,
   "id": "dcfa1342-e8f0-4286-828f-0a90ac92138f",
   "metadata": {
    "jupyter": {
     "source_hidden": true
    },
    "tags": []
   },
   "outputs": [
    {
     "data": {
      "text/plain": [
       "Index(['P_hPa', 'R_inches'], dtype='object')"
      ]
     },
     "execution_count": 25,
     "metadata": {},
     "output_type": "execute_result"
    }
   ],
   "source": [
    "data.columns"
   ]
  },
  {
   "cell_type": "markdown",
   "id": "3710321c-1a10-46c8-b2d3-4ce5d8c6f747",
   "metadata": {},
   "source": [
    "__a)\tWhat was the average pressure in 2014 ($\\overline{P}$)?  What was the average pressure when it rained ($\\overline{P}_{R \\geq 0.01}$)?  (10 points)__"
   ]
  },
  {
   "cell_type": "code",
   "execution_count": 26,
   "id": "88eba9ab-c043-4647-8bb8-681487c8f858",
   "metadata": {
    "jupyter": {
     "source_hidden": true
    },
    "tags": []
   },
   "outputs": [
    {
     "name": "stdout",
     "output_type": "stream",
     "text": [
      "Average Pressure in Ft. Collins in 2014: 846.33 hPa\n"
     ]
    }
   ],
   "source": [
    "# Calculate the average pressure value\n",
    "P_avg = data['P_hPa'].mean()\n",
    "\n",
    "print('Average Pressure in Ft. Collins in 2014: %.2f hPa' % P_avg)"
   ]
  },
  {
   "cell_type": "code",
   "execution_count": 27,
   "id": "71de9026-2d59-4e67-bfd8-54486678e950",
   "metadata": {
    "jupyter": {
     "source_hidden": true
    },
    "tags": []
   },
   "outputs": [
    {
     "name": "stdout",
     "output_type": "stream",
     "text": [
      "Average Pressure in Ft. Collins in 2014 on days when rain was recorded: 847.03 hPa\n"
     ]
    }
   ],
   "source": [
    "P_raining_avg = data[data.R_inches>=0.01]['P_hPa'].mean()\n",
    "\n",
    "print('Average Pressure in Ft. Collins in 2014 on days when rain was recorded: %.2f hPa' % P_raining_avg)"
   ]
  },
  {
   "cell_type": "markdown",
   "id": "df50e57e-8180-45d3-b9dc-086cd10a47cb",
   "metadata": {},
   "source": [
    "__b) Test your friends’ hypothesis by generating confidence intervals using both a t-statistic and a z-statistic. Is the average pressure different when it is raining?  What is more appropriate to use as a statistical test – a t- or a z-statistic? Use 95% confidence interval. (15 points)__"
   ]
  },
  {
   "cell_type": "code",
   "execution_count": 28,
   "id": "e066130c-a7ba-46f4-a8ad-fb53fcdcf1b0",
   "metadata": {
    "jupyter": {
     "source_hidden": true
    },
    "tags": []
   },
   "outputs": [
    {
     "data": {
      "text/plain": [
       "(384,)"
      ]
     },
     "execution_count": 28,
     "metadata": {},
     "output_type": "execute_result"
    }
   ],
   "source": [
    "data[data.R_inches>=0.01]['P_hPa'].shape"
   ]
  },
  {
   "cell_type": "code",
   "execution_count": 29,
   "id": "b74a0371-9b8f-495c-96e7-167b90f1bba4",
   "metadata": {
    "jupyter": {
     "source_hidden": true
    },
    "tags": []
   },
   "outputs": [
    {
     "data": {
      "text/plain": [
       "(8760,)"
      ]
     },
     "execution_count": 29,
     "metadata": {},
     "output_type": "execute_result"
    }
   ],
   "source": [
    "data['P_hPa'].shape"
   ]
  },
  {
   "cell_type": "markdown",
   "id": "c55cba9e-dbb1-47fd-92f5-1e00f53140ac",
   "metadata": {},
   "source": [
    "There are 254 measurements of pressure during rain and 8760 measurements, so we can confidently use the z-statistic. That said, using the t-statistic is fine because it becomes the z-statistic for large N. Values should be very similar."
   ]
  },
  {
   "cell_type": "markdown",
   "id": "449f7877-890f-4de5-a51a-89c33bfd372d",
   "metadata": {},
   "source": [
    "__Perform hypothesis testing.__\n",
    "\n",
    "1. $\\alpha = 0.05$\n",
    "2. Null Hypothesis $H_0: \\mu_1 = \\mu_2$, $H_1: \\mu_1 \\neq \\mu_2$\n",
    "3. We are comparing sample means without a priori knowledge, so we use a two-tailed test. We are directed to use both a z- and t-statistic.\n",
    "4. Critical region $f_c = f_{0.025} = 1.96, t_c = t_{0.025} = 1.97$ (very similar critical values)  "
   ]
  },
  {
   "cell_type": "code",
   "execution_count": 30,
   "id": "41f5ad8b-db44-4f6c-a723-61d71a8a6a77",
   "metadata": {
    "jupyter": {
     "source_hidden": true
    },
    "tags": []
   },
   "outputs": [
    {
     "name": "stdout",
     "output_type": "stream",
     "text": [
      "z-crit: 1.96\n",
      "t-crit: 1.97\n"
     ]
    }
   ],
   "source": [
    "z_crit = stats.norm.ppf(0.975)\n",
    "t_crit = stats.t.ppf(0.975,384-1)\n",
    "print('z-crit: %.2f' % z_crit)\n",
    "print('t-crit: %.2f' % t_crit)"
   ]
  },
  {
   "cell_type": "markdown",
   "id": "66cd0e6e-0301-4af0-ab0a-bb8edf56e113",
   "metadata": {},
   "source": [
    "5. Evaluate the statistic (below)."
   ]
  },
  {
   "cell_type": "markdown",
   "id": "17e8976b-372b-4477-8691-2611cecf461d",
   "metadata": {},
   "source": [
    "#### First, I'll treat the data as a population (use simple z- and t-stats):"
   ]
  },
  {
   "cell_type": "markdown",
   "id": "15cf9e22-31f7-49f1-9756-b542b7b2721c",
   "metadata": {},
   "source": [
    "The z-statistic is (Barnes Eq. 93):  \n",
    "\n",
    "$$ z = \\frac{\\overline{X} - \\mu}{\\sigma / \\sqrt{N}} $$"
   ]
  },
  {
   "cell_type": "code",
   "execution_count": 31,
   "id": "f3ebf378-29c9-4a1d-a0be-b214c501f8e0",
   "metadata": {
    "jupyter": {
     "source_hidden": true
    },
    "tags": []
   },
   "outputs": [],
   "source": [
    "p_rain_std = np.std(data[data.R_inches>=0.01]['P_hPa'])\n",
    "N_rain = len(data[data.R_inches>=0.01]['P_hPa'])"
   ]
  },
  {
   "cell_type": "code",
   "execution_count": 32,
   "id": "05c62663-d5b4-42e2-a531-7a25e93b66df",
   "metadata": {
    "jupyter": {
     "source_hidden": true
    },
    "tags": []
   },
   "outputs": [
    {
     "name": "stdout",
     "output_type": "stream",
     "text": [
      "z-stat: 2.54\n"
     ]
    }
   ],
   "source": [
    "z_stat = (P_raining_avg - P_avg) / (p_rain_std / np.sqrt(N_rain))\n",
    "print('z-stat: %.2f' % z_stat)"
   ]
  },
  {
   "cell_type": "markdown",
   "id": "4c3dca91-cd74-41d2-be87-cc63852dd975",
   "metadata": {},
   "source": [
    "The t-statistic is (Barnes Eq. 96):  \n",
    "\n",
    "$$ t = \\frac{\\overline{x} - \\mu}{s / \\sqrt{N - 1}} $$"
   ]
  },
  {
   "cell_type": "code",
   "execution_count": 33,
   "id": "080debfb-9bf2-4d3b-9cfd-f1aebafea058",
   "metadata": {
    "jupyter": {
     "source_hidden": true
    },
    "tags": []
   },
   "outputs": [
    {
     "name": "stdout",
     "output_type": "stream",
     "text": [
      "t-stat: 2.54\n"
     ]
    }
   ],
   "source": [
    "t_stat = (P_raining_avg - P_avg) / (p_rain_std / np.sqrt(N_rain - 1))\n",
    "print('t-stat: %.2f' % t_stat)"
   ]
  },
  {
   "cell_type": "markdown",
   "id": "a3c85741-78bb-4934-9776-fab0a8724149",
   "metadata": {},
   "source": [
    "#### Now, I can see if these critical values change when I treat the full data as its own sample."
   ]
  },
  {
   "cell_type": "markdown",
   "id": "a2ae9028-5604-4aa6-b278-09705d801d95",
   "metadata": {},
   "source": [
    "$$ z = \\frac{(\\overline{x_1} - \\overline{x_2}) - \\Delta_{1,2}}{\\sqrt{\\frac{\\sigma_1^2}{N_1}+\\frac{\\sigma_2^2}{N_2}}}, $$\n"
   ]
  },
  {
   "cell_type": "code",
   "execution_count": 34,
   "id": "f3c87455-e328-4d7d-bba3-59d3accd4e10",
   "metadata": {
    "jupyter": {
     "source_hidden": true
    },
    "tags": []
   },
   "outputs": [
    {
     "name": "stdout",
     "output_type": "stream",
     "text": [
      "z-stat: 2.49\n"
     ]
    }
   ],
   "source": [
    "# Calculate the z-statistic\n",
    "p_all_std = np.std(data['P_hPa'])\n",
    "N_all = len(data['P_hPa'])\n",
    "\n",
    "z_stat_full = (P_raining_avg - P_avg - 0) / np.sqrt(p_all_std**2 / N_all + p_rain_std**2 / N_rain)\n",
    "print('z-stat: %.2f' % z_stat_full)"
   ]
  },
  {
   "cell_type": "markdown",
   "id": "0bc168f3-7c10-44e1-a102-22a20759915f",
   "metadata": {},
   "source": [
    "Because the sample sizes are small ($<30$), we use the t-statistic for comparing two samples (Barnes Eq. 106)  \n",
    "\n",
    "$$ t = \\frac{(\\overline{x_1} - \\overline{x_2}) - \\Delta_{1,2}}{\\hat{\\sigma}\\sqrt{\\frac{1}{N_1}+\\frac{1}{N_2}}}, $$\n",
    "\n",
    "where the pooled variance $\\hat{\\sigma}$ is given by (Barnes Eq. 107):\n",
    "\n",
    "$$ \\hat{\\sigma} = \\sqrt{\\frac{N_1 s_1^2 + N_2 s_2^2}{N_1 + N_2 -2}} $$"
   ]
  },
  {
   "cell_type": "code",
   "execution_count": 35,
   "id": "1540b96a-74cd-43a1-b0be-f8d57f1363a7",
   "metadata": {
    "jupyter": {
     "source_hidden": true
    },
    "tags": []
   },
   "outputs": [
    {
     "name": "stdout",
     "output_type": "stream",
     "text": [
      "Calculated t-statistic: 2.39\n"
     ]
    }
   ],
   "source": [
    "# Calculate the pooled std (sig_p)\n",
    "sig_p = np.sqrt((N_all*p_all_std**2 + N_rain*p_rain_std**2) / (N_all + N_rain - 2))\n",
    "# print('Pooled std.: ',sig_p)\n",
    "\n",
    "# Calculate the t-statistic. Here we assume that the population standard deviation is equal for the two years (to avoid using Welch's t-test).\n",
    "t_val = ((P_raining_avg - P_avg) - 0) / (sig_p * np.sqrt(1/N_all + 1/N_rain))\n",
    "print('Calculated t-statistic: %.2f' % t_val)"
   ]
  },
  {
   "cell_type": "markdown",
   "id": "24c4f690-928b-4bee-8485-d920103ccc70",
   "metadata": {},
   "source": [
    "In this case, using the t-statistic produces a more different value than I would have expected."
   ]
  },
  {
   "cell_type": "markdown",
   "id": "ff4fcd3d-9fa5-4213-bea4-ee9551c625b2",
   "metadata": {},
   "source": [
    "### Evaluate the statistics"
   ]
  },
  {
   "cell_type": "markdown",
   "id": "f3ff6d80-81fe-4a96-89f2-a1304682a4c0",
   "metadata": {},
   "source": [
    "z-crit: 1.96  \n",
    "t-crit: 1.97\n",
    "\n",
    "z-stat (assuming that all data represent the population): 2.54  \n",
    "t-stat (assuming that all data represent the population): 2.54\n",
    "\n",
    "z-stat (letting the population be its own sample): 2.49  \n",
    "t-stat (letting the population be its own sample): 2.39"
   ]
  },
  {
   "cell_type": "markdown",
   "id": "a43ad76c-f6e7-4e8d-9f0c-81a39b97fc82",
   "metadata": {},
   "source": [
    "__Regardless of the statistics used, the critical value is always exceeded. We can discard the null hypothesis that pressure is unchanged when it rains.__"
   ]
  },
  {
   "cell_type": "markdown",
   "id": "4e0c1e96-25fe-441f-86c3-e65491b64512",
   "metadata": {},
   "source": [
    "__c)\tInstead of the t/z-test – use bootstrap sampling to determine whether the local pressure is anomalously high during times when it is raining. How does your answer compare with your results using the t/z-test? (15 points)__"
   ]
  },
  {
   "cell_type": "markdown",
   "id": "6d086893-118e-4ae2-9b89-7d53ba320f35",
   "metadata": {},
   "source": [
    "Instructions for Bootstrapping: Say there are $N$ hourly periods when $R \\geq 0.01$ inches. Instead of averaging the pressure $P$ in those $N$ hours, randomly grab $N$ pressure values and take their average.  Then do this again, and again, and again 1000 times.  In the end you will end up with a distribution of mean $N$ pressures ($P_N$) in the case of random sampling, i.e., the distribution you would expect if there was no physical relationship between $P$ and $N$. Plot a histogram of this distribution and provide basic statistics describing this distribution( (mean, standard deviation, minimum, and maximum).  Then quantify the likelihood of getting your value $\\overline{P}_{R > 0.01}$ of by chance alone using percentiles of the boot-strap generated distribution of P_N.\n",
    "\n",
    "Aside: The name bootstrapping comes from the saying “pulling yourself up by your boot straps”, the idea of getting something for nothing. For this method you do not need to know the true distribution underlying your data. You just re-use the data you have to try to calculate the statistics you need."
   ]
  },
  {
   "cell_type": "markdown",
   "id": "dde68b2c-ce06-40a6-b519-8e0a9a29978b",
   "metadata": {},
   "source": [
    "__Perform bootstrapping:__"
   ]
  },
  {
   "cell_type": "code",
   "execution_count": 36,
   "id": "169ed793-7cdd-4b15-9d94-df31c9ecaf7d",
   "metadata": {
    "tags": []
   },
   "outputs": [],
   "source": [
    "N_bootstraps = 1000 # number of resamplings taken\n",
    "\n",
    "bootstrap_statistic = np.empty(N_bootstraps) # save mean values here\n",
    "\n",
    "for i in range(N_bootstraps):\n",
    "        \n",
    "    #create a resample of SWE by sampling with replacement (same length as SWE)\n",
    "    resample_original = np.random.choice(data['P_hPa'], N_rain, replace=False)\n",
    "    \n",
    "    #Compute the test statistic from the resampled data\n",
    "    bootstrap_statistic[i] = np.mean(resample_original)"
   ]
  },
  {
   "cell_type": "code",
   "execution_count": 37,
   "id": "365e520b-c91e-4837-bddf-edd67259d817",
   "metadata": {
    "tags": []
   },
   "outputs": [
    {
     "name": "stdout",
     "output_type": "stream",
     "text": [
      "Bootstrapping distribution mean: 846.33 \n",
      "Bootstrapping distribution standard deviation: 0.26 \n",
      "Bootstrapping distribution minimum: 845.49 \n",
      "Bootstrapping distribution maximum: 847.22 \n"
     ]
    },
    {
     "data": {
      "image/png": "[encoded data removed]",
      "text/plain": [
       "<Figure size 432x288 with 1 Axes>"
      ]
     },
     "metadata": {
      "needs_background": "light"
     },
     "output_type": "display_data"
    }
   ],
   "source": [
    "# Plot the distribution of the test statistic\n",
    "plot1 = plt.figure()\n",
    "\n",
    "plt.hist(bootstrap_statistic,np.arange(845,847.76,0.25),edgecolor='black')\n",
    "plt.xlabel('Difference in sample means')\n",
    "plt.ylabel('Count')\n",
    "plt.title('Bootstrap distribution of sample means')\n",
    "\n",
    "# Print basic statistics describing the bootstrapping distribution\n",
    "print('Bootstrapping distribution mean: %.2f ' % np.mean(bootstrap_statistic))\n",
    "print('Bootstrapping distribution standard deviation: %.2f ' % np.std(bootstrap_statistic))\n",
    "print('Bootstrapping distribution minimum: %.2f ' % np.min(bootstrap_statistic))\n",
    "print('Bootstrapping distribution maximum: %.2f ' % np.max(bootstrap_statistic))"
   ]
  },
  {
   "cell_type": "code",
   "execution_count": 38,
   "id": "c5cb7974-a8c7-49d9-b5d5-5ebda9c4c08d",
   "metadata": {},
   "outputs": [],
   "source": [
    "plot1.savefig(\"ATOC5860_HW1_histoplot.png\")"
   ]
  },
  {
   "cell_type": "markdown",
   "id": "2b7e737b-991c-44fa-8902-87f002c20c80",
   "metadata": {},
   "source": [
    "Upper and lower confidence intervals."
   ]
  },
  {
   "cell_type": "code",
   "execution_count": 39,
   "id": "e34f8859-d7c8-4b96-90e0-56a676ee84e8",
   "metadata": {
    "tags": []
   },
   "outputs": [
    {
     "name": "stdout",
     "output_type": "stream",
     "text": [
      "845.788869140625\n",
      "846.8338424479167\n"
     ]
    }
   ],
   "source": [
    "#Create 95% CI from the bootstrapped distribution. The upper limit of the CI is defined as the 97.5% percentile\n",
    "#and the lower limit as the 2.5% percentile of the boostrap distribution, so that 95% of the \n",
    "#distribution lies within the two limits\n",
    "\n",
    "alpha = 0.05 # 95% confidence\n",
    "\n",
    "CI_up = np.percentile(bootstrap_statistic, 100*(1 - alpha/2.0))\n",
    "CI_lo = np.percentile(bootstrap_statistic, 100*(alpha/2.0))\n",
    "\n",
    "print(CI_lo)\n",
    "print(CI_up)"
   ]
  },
  {
   "cell_type": "markdown",
   "id": "6ae919e6-a6fa-4fb5-811b-35215fbce9db",
   "metadata": {},
   "source": [
    "Average pressure during rain:"
   ]
  },
  {
   "cell_type": "code",
   "execution_count": 40,
   "id": "636e7268-3f12-4a04-a406-0a4ef6639f4b",
   "metadata": {
    "tags": []
   },
   "outputs": [
    {
     "data": {
      "text/plain": [
       "847.0306249999999"
      ]
     },
     "execution_count": 40,
     "metadata": {},
     "output_type": "execute_result"
    }
   ],
   "source": [
    "P_raining_avg"
   ]
  },
  {
   "cell_type": "markdown",
   "id": "52a06bcd-a62e-4ee1-bacc-6040e89ef2a0",
   "metadata": {},
   "source": [
    "Since the average pressure during rain falls outside the confidence interval from the bootstrapping distribution, this method agrees that the pressure is statistically different when it rains."
   ]
  },
  {
   "cell_type": "markdown",
   "id": "785b82d4-4d52-4a22-a7ea-011f0765cacd",
   "metadata": {},
   "source": [
    "To actually answer the question, I need to sort the values and figure out how many are greater than or equal to the observed surface pressure during rain."
   ]
  },
  {
   "cell_type": "code",
   "execution_count": 54,
   "id": "1819b04a-a531-4883-adcc-3f6ae88da656",
   "metadata": {},
   "outputs": [],
   "source": [
    "bootstrap_above = [i for i in bootstrap_statistic if (i >= P_raining_avg)]"
   ]
  },
  {
   "cell_type": "code",
   "execution_count": 55,
   "id": "6e33e696-ea2b-4716-b2ea-fceda4883731",
   "metadata": {},
   "outputs": [
    {
     "data": {
      "text/plain": [
       "[847.0784635416667,\n",
       " 847.0874479166665,\n",
       " 847.177734375,\n",
       " 847.188515625,\n",
       " 847.2192968749999]"
      ]
     },
     "execution_count": 55,
     "metadata": {},
     "output_type": "execute_result"
    }
   ],
   "source": [
    "bootstrap_above"
   ]
  },
  {
   "cell_type": "code",
   "execution_count": 60,
   "id": "a8d53a05-d45f-40f9-9a04-087a03bb8805",
   "metadata": {},
   "outputs": [
    {
     "name": "stdout",
     "output_type": "stream",
     "text": [
      "Likelihood of obtaining the measure surface pressure by chance: 0.50 (percent)\n"
     ]
    }
   ],
   "source": [
    "percentile = len(bootstrap_above) / len(bootstrap_statistic)\n",
    "\n",
    "print('Likelihood of obtaining the measure surface pressure by chance: %.2f (percent)' % (100*percentile))"
   ]
  },
  {
   "cell_type": "code",
   "execution_count": null,
   "id": "ee507772-81e3-40a8-8319-52631b461ee2",
   "metadata": {},
   "outputs": [],
   "source": []
  }
 ],
 "metadata": {
  "kernelspec": {
   "display_name": "pangeo",
   "language": "python",
   "name": "pangeo"
  },
  "language_info": {
   "codemirror_mode": {
    "name": "ipython",
    "version": 3
   },
   "file_extension": ".py",
   "mimetype": "text/x-python",
   "name": "python",
   "nbconvert_exporter": "python",
   "pygments_lexer": "ipython3",
   "version": "3.8.12"
  }
 },
 "nbformat": 4,
 "nbformat_minor": 5
}
